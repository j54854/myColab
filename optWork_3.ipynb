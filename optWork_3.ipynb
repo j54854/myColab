{
  "nbformat": 4,
  "nbformat_minor": 0,
  "metadata": {
    "colab": {
      "provenance": [],
      "collapsed_sections": [
        "d3rTQOu16zc7",
        "ZYCrocRN5qsN",
        "Tj9cMDp56E_p",
        "CwR8YPQjEVjt",
        "sSLVtsMs6Wxq",
        "sBcgJrCA6Z7q"
      ],
      "authorship_tag": "ABX9TyP4y4v4Jy4qgLISFuRAvlsG",
      "include_colab_link": true
    },
    "kernelspec": {
      "name": "python3",
      "display_name": "Python 3"
    }
  },
  "cells": [
    {
      "cell_type": "markdown",
      "metadata": {
        "id": "view-in-github",
        "colab_type": "text"
      },
      "source": [
        "<a href=\"https://colab.research.google.com/github/j54854/myColab/blob/main/optWork_3.ipynb\" target=\"_parent\"><img src=\"https://colab.research.google.com/assets/colab-badge.svg\" alt=\"Open In Colab\"/></a>"
      ]
    },
    {
      "cell_type": "markdown",
      "metadata": {
        "id": "4VKHKjpY64aP"
      },
      "source": [
        "# 最適化技術実験（第3部3回目）"
      ]
    },
    {
      "cell_type": "markdown",
      "metadata": {
        "id": "d3rTQOu16zc7"
      },
      "source": [
        "---\n",
        "\n",
        "## 学生番号\n",
        "\n",
        "157xxxxx\n",
        "\n",
        "---\n",
        "\n",
        "## 氏名\n",
        "\n",
        "青山　太郎\n",
        "\n",
        "---\n",
        "\n"
      ]
    },
    {
      "cell_type": "markdown",
      "metadata": {
        "id": "ZYCrocRN5qsN"
      },
      "source": [
        "\n",
        "\n",
        "## 演習で利用するクラスの読込み\n",
        "\n",
        "今回の演習課題でもJobsクラスと，前回の演習で作成したNodeクラスを利用しますので，最初にそれらを読み込んでおきましょう．まずはJobsクラスからです．\n",
        "\n",
        "\n"
      ]
    },
    {
      "cell_type": "code",
      "metadata": {
        "id": "Krg_rBma5pq8"
      },
      "source": [
        "import csv\n",
        "import random\n",
        "import sys\n",
        "import time\n",
        "import plotly.figure_factory as ff\n",
        "\n",
        "class Jobs:\n",
        "    def __init__(self, pt=None):\n",
        "        if pt:  # pt must be 2-dimensional list of integers\n",
        "            self.pt = pt  # pt[j][m]: processing time of job j on machine m\n",
        "            self.J = len(self.pt)  # number of jobs\n",
        "            self.M = len(self.pt[0])  # number of machines\n",
        "        else:  # if pt is not given\n",
        "            pass  # do nothing (pt, J, M sould be set later)\n",
        "\n",
        "    def save_in_csv_file(self, filename):  # pt_jm is saved in a csv file\n",
        "        with open(filename, 'w') as f:\n",
        "            writer = csv.writer(f)\n",
        "            for j in range(self.J):\n",
        "                writer.writerow(self.pt[j])\n",
        "\n",
        "    def set_by_csv_file(self, filename):  # pt, J & M are set by a csv file, where rows correespond to jobs and columns correspond to machines\n",
        "        with open(filename) as f:\n",
        "            reader = csv.reader(f)\n",
        "            self.pt = [\n",
        "                [int(pt) for pt in row] for row in reader\n",
        "            ]\n",
        "            self.J = len(self.pt)\n",
        "            self.M = len(self.pt[0])\n",
        "\n",
        "    def set_randomly(self, J, M):  # pt_jm is set randomly for specified J & M\n",
        "        self.J = J\n",
        "        self.M = M\n",
        "        self.pt = [\n",
        "            [random.randint(1, 60) for m in range(M)] for j in range(J)\n",
        "        ]\n",
        "\n",
        "    def make_schedule(self, seq=None):\n",
        "        if not seq:  # if seq is not given, it is set randomly\n",
        "            seq = list(range(self.J))  # seq = [0, 1, 2, ..., J]\n",
        "            random.shuffle(seq)  # randomize the order of elements in seq\n",
        "        self.st = [[0] *self.M for j in range(self.J)]  # start time of job j on machine m is initilized to be 0\n",
        "        last_ct = [0 for m in range(self.M)]  # when each machine finishes the last job (& becomes available) is also set to be 0\n",
        "        for j in seq:\n",
        "            last_ct_j = 0  # when job j is completed on the last machine (& becomes ready) is initially set to be 0\n",
        "            for m in range(self.M):\n",
        "                self.st[j][m] = max(last_ct_j, last_ct[m])\n",
        "                last_ct[m] = self.st[j][m] +self.pt[j][m]\n",
        "                last_ct_j = self.st[j][m] +self.pt[j][m]\n",
        "        print('Job sequence = ', seq)\n",
        "        print('Makespan = {}'.format(last_ct_j))\n",
        "\n",
        "    def draw_schedule(self):\n",
        "        operations = []\n",
        "        for j in range(self.J):\n",
        "            for m in range(self.M):\n",
        "                day = '2020-12-01 '  # dummy date\n",
        "                st_h, st_m = divmod(self.st[j][m], 60)\n",
        "                ct_h, ct_m = divmod(self.st[j][m] +self.pt[j][m], 60)\n",
        "                st_daytime = day +'{:02}:{:02}'.format(st_h, st_m)\n",
        "                ct_daytime = day +'{:02}:{:02}'.format(ct_h, ct_m)\n",
        "                operations.append(\n",
        "                    dict(Task='Machine'+str(m), Start=st_daytime, Finish=ct_daytime, Resource='Job'+str(j))\n",
        "                )\n",
        "        fig = ff.create_gantt(operations, index_col='Resource', show_colorbar=True, group_tasks=True)\n",
        "        fig.show()"
      ],
      "execution_count": null,
      "outputs": []
    },
    {
      "cell_type": "markdown",
      "metadata": {
        "id": "4A_MKfxh57_o"
      },
      "source": [
        "次にNodeクラスを読み込みます．なお，下記のサンプルコードは各メソッドの中身が記述されていないスケルトンですので，前々回の演習課題で作成したコードに置き換えてから実行するようにします．\n",
        "\n"
      ]
    },
    {
      "cell_type": "code",
      "metadata": {
        "id": "QgVgF7mg6HRT"
      },
      "source": [
        "class Node:\n",
        "    def __init__(self, jobs, seq=None):\n",
        "        self.jobs = jobs  # all jobs (Jobs class instance)\n",
        "        self.seq = []  # (partial) job sequence\n",
        "        self.rest = list(range(jobs.J))  # unassigned jobs\n",
        "        self.last_ct = [0] *jobs.M  # when each machine finishes the last job (& becomes available) is initially set to be 0\n",
        "        if seq:\n",
        "            self.set_seq(seq)\n",
        "\n",
        "    @property\n",
        "    def makespan(self):\n",
        "        pass\n",
        "\n",
        "    def assign(self, j):  # assign job j in rest\n",
        "        pass\n",
        "\n",
        "    def set_seq(self, seq):  # set (partial) job sequence at a time\n",
        "        pass\n",
        "\n",
        "    def is_complete(self):  # is this a full schedule?\n",
        "        pass"
      ],
      "execution_count": null,
      "outputs": []
    },
    {
      "cell_type": "markdown",
      "metadata": {
        "id": "Tj9cMDp56E_p"
      },
      "source": [
        "## 厳密解法と近似解法\n",
        "\n",
        "与えられたスケジューリング問題の最適解（今考えている例では，メイクスパンを最小にするジョブの順序）の1つを必ず出力する解法を厳密解法と呼びます．例えば，前回，前々回に実装した全数探索や分枝限定法は，厳密解法に分類されます．ここで扱っているフローショップスケジューリング問題を始めとして，多くのスケジューリング問題では，問題の規模に伴って必要な計算時間が爆発的に大きくなっていく現象（組合せ爆発）が生じるため，厳密解法は，比較的小規模な問題しか扱えないという限界を抱えています．\n",
        "\n",
        "これに対して，必ず最適解を導くわけではありませんが，現実的な計算時間内になるべく良質な解を得ることを目指した解法を，近似解法と呼びます．近似解法の中には，得られる解と最適解の質の差の上限を理論的に保証できるものもありますが，一般には，その差の上限は必ずしも明らかではありません．この後者の，より一般的な近似解法を，特に，発見的手法（ヒューリスティクス）と呼ぶことがあります．多様なヒューリスティクスが提案されていますが，その最も基本的かつ汎用的な枠組みの1つとして，局所探索があります．今回はこの局所探索の実装に挑戦しましょう．\n",
        "\n",
        "\n"
      ]
    },
    {
      "cell_type": "markdown",
      "metadata": {
        "id": "CwR8YPQjEVjt"
      },
      "source": [
        "## 近傍，局所解，局所探索\n",
        "\n",
        "ある（部分ではなく完全な）スケジュールが与えられたとき，何らかの意味でそれと似通ったスケジュールの集合をそのスケジュールの近傍と呼びます．そして，あるスケジュールの近傍に，そのスケジュールよりも良い（今の例では，メイクスパンの短い）スケジュールが存在しないとき，それを局所解，あるいは局所最適解と呼びます．\n",
        "\n",
        "局所探索とは，可能なスケジュール全体の集合（解空間）を漏れなく探索するのではなく，あるスケジュール（初期解）から始め，その近傍だけを探索し，もしより良いスケジュールがあれば，暫定的に解をそれに更新する，そして，更新したスケジュールの近傍をまた探索する，という処理を繰り返すことによって，最終的に局所解に辿り着く方法です．\n",
        "\n",
        "局所探索の実装に取り掛かる前に，まずは近傍を構成することを考えてみましょう．\n",
        "\n"
      ]
    },
    {
      "cell_type": "markdown",
      "metadata": {
        "id": "k95tcQsOErdp"
      },
      "source": [
        "## 順列の交換近傍と挿入近傍\n",
        "\n",
        "ここで考えているフローショップスケジューリング問題では，個々の解（すなわちスケジュール）はそれぞれジョブの順序（順列）に対応しています．順列について様々な近傍が考えられますが，ここでは，それらの中でも最も基本的なものとして，交換近傍と挿入近傍の2つを実装してみます．\n",
        "\n",
        "### 交換近傍\n",
        "\n",
        "ある順列seqが与えられたとき，seqの中の任意の2つの要素の位置を入れ替えることによって得られる順列の集合を，seqの交換近傍と呼びます．例えば，seq=(0,4,1,3,2)だとしましょう．このとき，最初と最後の要素を入れ替えると，(2,4,1,3,0)という順列が得られます．したがって，(2,4,1,3,0)はseqの交換近傍に含まれる，ということになります．交換近傍に含まれる順列の数がJ(J-1)/2個になることを確認しておきましょう．\n",
        "\n",
        "### 挿入近傍\n",
        "\n",
        "一方，seqの中から1つの要素を取り出し，その取り出した要素を別の位置に挿入することによって得られる順列の集合を，seqの挿入近傍と呼びます．例えば上の例で，最初の要素を取り出してそれを最後尾に挿入すると，(4,1,3,2,0)という順列が得られます．したがって，(4,1,3,2,0)はseqの挿入近傍に含まれる，ということになります．挿入近傍に含まれる順列の数が(J-1)^2になることを確認しておきましょう．"
      ]
    },
    {
      "cell_type": "markdown",
      "metadata": {
        "id": "re2aXuQgFlMl"
      },
      "source": [
        "## 演習課題1: 近傍の実装\n",
        "\n",
        "### 課題1-1\n",
        "\n",
        "順列seq（長さJのリスト）を渡すと，その交換近傍を順列のリスト（長さJのリストのリスト）として返す関数swap_neighbors()を完成させましょう．なお，関数の戻り値として返すリストneighborhoodに同じ順列が複数含まれることがないようにすること．\n"
      ]
    },
    {
      "cell_type": "code",
      "metadata": {
        "id": "XXeRWBpbE-zl"
      },
      "source": [
        "def swap_neighbors(seq):\n",
        "    neighborhood = []\n",
        "    pass\n",
        "    return neighborhood"
      ],
      "execution_count": null,
      "outputs": []
    },
    {
      "cell_type": "markdown",
      "metadata": {
        "id": "x7Hh-ZrPFBkd"
      },
      "source": [
        "### 課題1-2\n",
        "\n",
        "上と同様にして，順列seqを渡すと，その挿入近傍を順列のリストとして返す関数insert_neighbors()を完成させよう．今回も，戻り値として返すリストneighborhoodに同じ順列が複数含まれることがないようにしよう．\n"
      ]
    },
    {
      "cell_type": "code",
      "metadata": {
        "id": "L6bwOFoIFCdD"
      },
      "source": [
        "def insert_neighbors(seq):\n",
        "    neighborhood = []\n",
        "    pass\n",
        "    return neighborhood"
      ],
      "execution_count": null,
      "outputs": []
    },
    {
      "cell_type": "markdown",
      "metadata": {
        "id": "UYXx4Ydehv8J"
      },
      "source": [
        "うまく実装できたかどうかを，例えば次のようにして確認しておこう．"
      ]
    },
    {
      "cell_type": "code",
      "metadata": {
        "id": "hDQdNF7Vh6FO"
      },
      "source": [
        "seq = [0,1,2,3]\n",
        "print(swap_neighbors(seq))\n",
        "print(insert_neighbors(seq))"
      ],
      "execution_count": null,
      "outputs": []
    },
    {
      "cell_type": "markdown",
      "metadata": {
        "id": "VYRXCHRrFEcr"
      },
      "source": [
        "## 局所探索のバリエーション\n",
        "\n",
        "### 初期解の与え方\n",
        "\n",
        "通常はランダムに生成します．また，異なる初期解で局所探索を繰り返し，得られた局所解のうち最も良いスケジュールを選択するという戦略をとることもよくあります．これは，多スタート局所探索と呼ばれています．\n",
        "\n",
        "### 近傍の定義\n",
        "\n",
        "上で見たように，最も基本的なものとして，交換近傍と挿入近傍があります．また，これらの他にも様々な近傍が提案されています．\n",
        "\n",
        "### 移動戦略\n",
        "\n",
        "次の2つが代表的な移動戦略です．\n",
        "\n",
        "- 近傍内のすべての順列（スケジュール）を評価し，暫定解より良い解があればそれらのうち最良のものに移動する（なければ終了）．\n",
        "\n",
        "- 暫定解よりも良い解が見つかり次第，すぐにそこに移動する（近傍内を評価し尽くしても良い解が見つからなければ終了）．なお，こちらの戦略をとる場合は，通常，近傍内の解はランダムな順序で評価します．\n"
      ]
    },
    {
      "cell_type": "markdown",
      "metadata": {
        "id": "yGgi9RxsF3T2"
      },
      "source": [
        "## 演習課題2: 局所探索の実装\n",
        "\n",
        "### 課題2-1\n",
        "\n",
        "近傍を調べ尽くしてからその中の最良解に移動するという移動戦略で局所探索を行う関数local_search_a()を完成させよう．交換近傍と挿入近傍のどちらを使ってもかまいません．なお，引数jobsはJobsクラスのインスタンス，seqは初期解を表す順列（長さJのリスト）で，戻り値は，局所解の順列best_seqとそれに対応するスケジュールのメイクスパンbest_msとします．関数の中で，Nodeクラスのインスタンスを利用するといいでしょう．"
      ]
    },
    {
      "cell_type": "code",
      "metadata": {
        "id": "syY7o2HEFE8I"
      },
      "source": [
        "def local_search_a(jobs, seq):\n",
        "    best_seq = None  # best job sequence found so far\n",
        "    best_ms = sys.maxsize  # its makespan\n",
        "    pass\n",
        "    return best_seq, best_ms"
      ],
      "execution_count": null,
      "outputs": []
    },
    {
      "cell_type": "markdown",
      "metadata": {
        "id": "aiBcGqVLFHNL"
      },
      "source": [
        "### 課題2-2\n",
        "\n",
        "暫定解よりも良い解が見つかればすぐそれに移動するという移動戦略で局所探索を行う関数local_search_b()を完成させましょう．今回も，交換近傍と挿入近傍のどちらを使ってもかまいません．引数や戻り値は上と同じとする．近傍の中の解をチェックしていく順序がランダムになるようにすること．"
      ]
    },
    {
      "cell_type": "code",
      "metadata": {
        "id": "2gJT4u4SFJz1"
      },
      "source": [
        "def local_search_b(jobs, seq):\n",
        "    best_seq = None  # best job sequence found so far\n",
        "    best_ms = sys.maxsize  # its makespan\n",
        "    pass\n",
        "    return best_seq, best_ms"
      ],
      "execution_count": null,
      "outputs": []
    },
    {
      "cell_type": "markdown",
      "metadata": {
        "id": "5Co8vU9CkEc-"
      },
      "source": [
        "これらの関数も，仕上がったら例えば次のようにして動作確認しておこう．"
      ]
    },
    {
      "cell_type": "code",
      "metadata": {
        "id": "NUt6m_0okKsz"
      },
      "source": [
        "pt = [\n",
        "        [35, 7, 18, 20],\n",
        "        [4, 60, 12, 10],\n",
        "        [15, 15, 20, 30],\n",
        "        [11, 25, 10, 35],\n",
        "        [33, 1, 45, 12]\n",
        "    ]\n",
        "jobs = Jobs(pt)\n",
        "seq = list(range(jobs.J))\n",
        "random.shuffle(seq)\n",
        "best_seq, best_ms = local_search_a(jobs, seq)\n",
        "# best_seq, best_ms = local_search_b(jobs, seq)\n",
        "jobs.make_schedule(best_seq)\n",
        "jobs.draw_schedule()"
      ],
      "execution_count": null,
      "outputs": []
    },
    {
      "cell_type": "markdown",
      "metadata": {
        "id": "2WjTrmhe6Vfk"
      },
      "source": [
        "## 考察課題3\n",
        "\n",
        "最後に，今回の講義と課題に関連して，下記の項目について考察してみましょう．下の欄に直接書き込んで提出してください．\n",
        "\n",
        "- しばしば局所探索の拡張として捉えられる近似解法のクラスとして，メタヒューリスティクスがあります．メタヒューリスティクスの具体的なアルゴリズムを1つ取り上げて，それが単純な局所探索と比較してどのような強みをもつかを考えてみよう．"
      ]
    },
    {
      "cell_type": "markdown",
      "metadata": {
        "id": "sSLVtsMs6Wxq"
      },
      "source": [
        "### 課題3-1\n",
        "\n",
        "この文を消して，ここに，自分の考察を記入してください．\n"
      ]
    },
    {
      "cell_type": "markdown",
      "metadata": {
        "id": "sBcgJrCA6Z7q"
      },
      "source": [
        "## まとめ\n",
        "\n",
        "演習課題のコードは，所定の箇所に（passを消してから）直接書き込んでください．提出前に必ず動作を確認しておくこと．動作しないコードは採点対象になりません．また，考察課題も，所定の欄に直接書き込んでもらえればOKです．\n",
        "\n",
        "最後に，このGoogle Colabのノートブックを\n",
        "\n",
        "★☆★ <b>ipynb形式</b> ★☆★\n",
        "\n",
        "で保存したファイルをコースパワーから提出すること．提出の〆切は，\n",
        "\n",
        "★☆★ <b>18:20</b> ★☆★\n",
        "\n",
        "とします．"
      ]
    }
  ]
}