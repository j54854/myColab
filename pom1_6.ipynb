{
  "nbformat": 4,
  "nbformat_minor": 0,
  "metadata": {
    "colab": {
      "provenance": [],
      "authorship_tag": "ABX9TyNZBwCZiOX8PoSG6YMX25PS",
      "include_colab_link": true
    },
    "kernelspec": {
      "name": "python3",
      "display_name": "Python 3"
    },
    "language_info": {
      "name": "python"
    }
  },
  "cells": [
    {
      "cell_type": "markdown",
      "metadata": {
        "id": "view-in-github",
        "colab_type": "text"
      },
      "source": [
        "<a href=\"https://colab.research.google.com/github/j54854/myColab/blob/main/pom1_6.ipynb\" target=\"_parent\"><img src=\"https://colab.research.google.com/assets/colab-badge.svg\" alt=\"Open In Colab\"/></a>"
      ]
    },
    {
      "cell_type": "markdown",
      "source": [
        "# 生産管理技術１_6の補助資料\n",
        "この補助資料では、生産管理技術１の第６回講義で扱った生産計画問題（線形最適化問題）を、PuLP（とフリーのソルバーCBC）を用いて解いてみよう。\n",
        "\n",
        "## 単一期の生産計画\n",
        "\n",
        "まず、講義内で取り上げた、単一期の生産計画問題の簡単な数値例を再掲する。\n",
        "\n",
        "### 決定変数：\n",
        "$X_1$, $X_2$\n",
        "\n",
        "### 目的関数：\n",
        "$f = 4 X_1 +3 X_2$\n",
        "\n",
        "### 制約条件：\n",
        "$X_1 +4 X_2 \\leq 5200$　　　　(1)\n",
        "\n",
        "$14 X_1 +4 X_2 \\leq 15600$　　　　(2)\n",
        "\n",
        "$X_1 \\leq 1000$　　　　(3)\n",
        "\n",
        "$X_1, X_2 \\leq 0$　　　　(4)\n",
        "\n",
        "次に、この問題の解決にPuLPを利用できるようにするために、pipでPuLPをインストールしてから、それをインポートする。\n",
        "\n",
        "\n",
        "\n"
      ],
      "metadata": {
        "id": "ipsGrudsUSRl"
      }
    },
    {
      "cell_type": "code",
      "source": [
        "!pip install pulp\n",
        "import pulp"
      ],
      "metadata": {
        "id": "OO3AFleRYUP6"
      },
      "execution_count": null,
      "outputs": []
    },
    {
      "cell_type": "markdown",
      "source": [
        "次に、PuLPで問題（lp1）を定義して、その問題（lp1）に決定変数を登録する。"
      ],
      "metadata": {
        "id": "lg9RENuLZpAg"
      }
    },
    {
      "cell_type": "code",
      "source": [
        "lp1 = pulp.LpProblem('lp1', sense=pulp.LpMaximize)  # 最小化問題の場合は、sense=pulp.LpMinimizeとする。\n",
        "X1 = pulp.LpVariable('X1', lowBound=0, upBound=None)  # LowBoud=0を指定することで制約条件（４）を表現できる。\n",
        "X2 = pulp.LpVariable('X2', lowBound=0, upBound=None) "
      ],
      "metadata": {
        "id": "Xhe-KVlKa1Bn"
      },
      "execution_count": 22,
      "outputs": []
    },
    {
      "cell_type": "markdown",
      "source": [
        "次に、問題（lp1）に目的関数を登録する。"
      ],
      "metadata": {
        "id": "EXz4CgSCeh5n"
      }
    },
    {
      "cell_type": "code",
      "source": [
        "lp1 += 4 * X1 +3 *X2"
      ],
      "metadata": {
        "id": "ivi2fhnOeqnk"
      },
      "execution_count": 23,
      "outputs": []
    },
    {
      "cell_type": "markdown",
      "source": [
        "続いて、残りの制約条件(1), (2), (3)を追加していく。"
      ],
      "metadata": {
        "id": "6PefzXMFgK4s"
      }
    },
    {
      "cell_type": "code",
      "source": [
        "lp1 += X1 +4 *X2 <= 5200\n",
        "lp1 += 14 *X1 +4 *X2 <= 15600\n",
        "lp1 += X1 <= 1000"
      ],
      "metadata": {
        "id": "c9vwnhsfgRr1"
      },
      "execution_count": 24,
      "outputs": []
    },
    {
      "cell_type": "markdown",
      "source": [
        "これで問題を登録できた。念のため、登録した問題を確認しておこう。"
      ],
      "metadata": {
        "id": "ta_L-EyYhSXt"
      }
    },
    {
      "cell_type": "code",
      "source": [
        "print(lp1)"
      ],
      "metadata": {
        "id": "4-CiGlXEhatp"
      },
      "execution_count": null,
      "outputs": []
    },
    {
      "cell_type": "markdown",
      "source": [
        "これで準備が整ったので、最後に、ソルバーで解を導出する。lp1.solve()が求解のためのメソッド呼び出しであり、その返り値statusがOptimalになっていれば最適解が得られていることがわかる。"
      ],
      "metadata": {
        "id": "C2cW80kLhGOA"
      }
    },
    {
      "cell_type": "code",
      "source": [
        "status = lp1.solve()\n",
        "print(pulp.LpStatus[status])"
      ],
      "metadata": {
        "id": "knatMThWhMYY"
      },
      "execution_count": null,
      "outputs": []
    },
    {
      "cell_type": "markdown",
      "source": [
        "最適解とそのときの目的関数値は次のようにして確認すればよい。"
      ],
      "metadata": {
        "id": "xoSmT8axiWcW"
      }
    },
    {
      "cell_type": "code",
      "source": [
        "print('Optimal solution: (X1, X2) = ({}, {})'.format(X1.value(), X2.value()))\n",
        "print('Objective function value: f = {}'.format(lp1.objective.value()))"
      ],
      "metadata": {
        "id": "rbX694kFigWS"
      },
      "execution_count": null,
      "outputs": []
    },
    {
      "cell_type": "markdown",
      "source": [
        "## 複数期の生産計画\n",
        "\n",
        "同様に、複数期の生産計画問題も解いておこう。問題自体の再掲は省略するので、講義スライドを確認してほしい。\n",
        "\n",
        "まず、問題（今度はlp2と命名した）と決定変数を登録しよう。"
      ],
      "metadata": {
        "id": "ETWAMfQWj4NY"
      }
    },
    {
      "cell_type": "code",
      "source": [
        "lp2 = pulp.LpProblem('lp2', sense=pulp.LpMaximize) \n",
        "\n",
        "x_keys = [(p, t) for p in (1, 2) for t in (1, 2, 3)]\n",
        "y_keys = [(p, t) for p in (1, 2) for t in (1, 2)]\n",
        "\n",
        "x = pulp.LpVariable.dicts('x', x_keys, lowBound=0, upBound=None)\n",
        "y = pulp.LpVariable.dicts('y', y_keys, lowBound=0, upBound=None)"
      ],
      "metadata": {
        "id": "cD9IaO2gnPQQ"
      },
      "execution_count": 50,
      "outputs": []
    },
    {
      "cell_type": "markdown",
      "source": [
        "決定変数は、単一期のときと同じように個別に一つ一つ登録していってもよいが、ここでは、製品番号pと期番号tのペアのタプル(p, t)をキーとした辞書x[(p, t)]として、まとめて登録している。これによって、後の制約条件の登録もfor文を使って効率的に行うことができるようになる。ここでは、詳しい説明は省略するので、もし必要なら、PuLPの公式ドキュメントなどを参照してほしい。\n",
        "\n",
        "次に目的関数を登録する。なお、pulp.lpDot()は、第1引数を係数ベクトル、第2引き数を変数ベクトルとした内積で定義される線形式を返す関数である。"
      ],
      "metadata": {
        "id": "ElQDc7XopQzm"
      }
    },
    {
      "cell_type": "code",
      "source": [
        "lp2 += pulp.lpDot((8, 8, 8), (x[(1, 1)], x[(1, 2)], x[(1, 3)])) +pulp.lpDot((6, 6, 6), (x[(2, 1)], x[(2, 2)], x[(2, 3)])) -pulp.lpDot((1, 1), (y[(1, 1)], y[(1, 2)])) -pulp.lpDot((2, 2), (y[(2, 1)], y[(2, 2)]))"
      ],
      "metadata": {
        "id": "noiCU3CIqLTR"
      },
      "execution_count": 51,
      "outputs": []
    },
    {
      "cell_type": "markdown",
      "source": [
        "続いて、制約条件を登録していこう。"
      ],
      "metadata": {
        "id": "IRzxDktastot"
      }
    },
    {
      "cell_type": "code",
      "source": [
        "for t in (1, 2, 3):\n",
        "  lp2 += x[(1, t)] +4 *x[(2, t)] <= 5200\n",
        "  lp2 += 14 *x[(1, t)] +4 *x[(2, t)] <= 15600\n",
        "\n",
        "lp2 += x[(1, 1)] -y[(1, 1)] >= 0\n",
        "lp2 += x[(1, 1)] -y[(1, 1)] <= 500\n",
        "lp2 += x[(2, 1)] -y[(2, 1)] >= 0\n",
        "lp2 += x[(2, 1)] -y[(2, 1)] <= 1500\n",
        "lp2 += y[(1, 1)] +x[(1, 2)] -y[(1, 2)] >= 0\n",
        "lp2 += y[(1, 1)] +x[(1, 2)] -y[(1, 2)] <= 500\n",
        "lp2 += y[(2, 1)] +x[(2, 2)] -y[(2, 2)] >= 0\n",
        "lp2 += y[(2, 1)] +x[(2, 2)] -y[(2, 2)] <= 1200\n",
        "lp2 += y[(1, 2)] +x[(1, 3)] >= 0\n",
        "lp2 += y[(1, 2)] +x[(1, 3)] <= 2000\n",
        "lp2 += y[(2, 2)] +x[(2, 3)] >= 0\n",
        "lp2 += y[(2, 2)] +x[(2, 3)] <= 900"
      ],
      "metadata": {
        "id": "Qp7WtAFLsx6m"
      },
      "execution_count": 52,
      "outputs": []
    },
    {
      "cell_type": "markdown",
      "source": [
        "最後に、解を求めて、結果を確認する。"
      ],
      "metadata": {
        "id": "1-7gcvfSu6ZK"
      }
    },
    {
      "cell_type": "code",
      "source": [
        "print(lp2)\n",
        "status = lp2.solve()\n",
        "print(pulp.LpStatus[status])\n",
        "for p in (1, 2):\n",
        "  for t in (1, 2, 3):\n",
        "    print('X_{},{} = {}'.format(p, t, x[(p, t)].value()))\n",
        "for p in (1, 2):\n",
        "  for t in (1, 2):\n",
        "    print('Y_{},{} = {}'.format(p, t, y[(p, t)].value()))\n",
        "print('Objective function value: f = {}'.format(lp2.objective.value()))"
      ],
      "metadata": {
        "id": "XMU8sHfLvAFk"
      },
      "execution_count": null,
      "outputs": []
    },
    {
      "cell_type": "markdown",
      "source": [
        "以上のように、pythonのPuLPライブラリ（とそれに付随しているフリーのソルバーCBC）を使うと、簡単に、線形最適化問題の解を求めることができる。"
      ],
      "metadata": {
        "id": "lKBcunmQ1wwG"
      }
    }
  ]
}