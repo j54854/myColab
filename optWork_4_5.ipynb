{
  "nbformat": 4,
  "nbformat_minor": 0,
  "metadata": {
    "colab": {
      "name": "optWork_4_5",
      "provenance": [],
      "collapsed_sections": [],
      "authorship_tag": "ABX9TyMdStRP4dYQ0BGhgvFVith5",
      "include_colab_link": true
    },
    "kernelspec": {
      "name": "python3",
      "display_name": "Python 3"
    }
  },
  "cells": [
    {
      "cell_type": "markdown",
      "metadata": {
        "id": "view-in-github",
        "colab_type": "text"
      },
      "source": [
        "<a href=\"https://colab.research.google.com/github/j54854/myColab/blob/main/optWork_4_5.ipynb\" target=\"_parent\"><img src=\"https://colab.research.google.com/assets/colab-badge.svg\" alt=\"Open In Colab\"/></a>"
      ]
    },
    {
      "cell_type": "markdown",
      "metadata": {
        "id": "a9o2r-IAwmyq"
      },
      "source": [
        "# 最適化技術実験（第3部4, 5回目）"
      ]
    },
    {
      "cell_type": "markdown",
      "metadata": {
        "id": "NMeHwjJwwrh4"
      },
      "source": [
        "---\n",
        "\n",
        "## 学生番号\n",
        "\n",
        "157xxxxx\n",
        "\n",
        "---\n",
        "\n",
        "## 氏名\n",
        "\n",
        "青山　太郎\n",
        "\n",
        "---\n",
        "\n"
      ]
    },
    {
      "cell_type": "markdown",
      "metadata": {
        "id": "AWqbl-OPwuTD"
      },
      "source": [
        "## 演習で利用するクラスの読込み\n",
        "\n",
        "今回の演習課題でもJobsクラスとNodeクラスを利用しますので，最初にそれらを読み込んでおきましょう．"
      ]
    },
    {
      "cell_type": "code",
      "metadata": {
        "id": "iOUK40icrFKH"
      },
      "source": [
        "import csv\n",
        "import random\n",
        "import sys\n",
        "import time\n",
        "import plotly.figure_factory as ff\n",
        "\n",
        "class Jobs:\n",
        "    def __init__(self, pt=None):\n",
        "        if pt:  # pt must be 2-dimensional list of integers\n",
        "            self.pt = pt  # pt[j][m]: processing time of job j on machine m\n",
        "            self.J = len(self.pt)  # number of jobs\n",
        "            self.M = len(self.pt[0])  # number of machines\n",
        "        else:  # if pt is not given\n",
        "            pass  # do nothing (pt, J, M sould be set later)\n",
        "\n",
        "    def save_in_csv_file(self, filename):  # pt_jm is saved in a csv file\n",
        "        with open(filename, 'w') as f:\n",
        "            writer = csv.writer(f)\n",
        "            for j in range(self.J):\n",
        "                writer.writerow(self.pt[j])\n",
        "\n",
        "    def set_by_csv_file(self, filename):  # pt, J & M are set by a csv file, where rows correespond to jobs and columns correspond to machines\n",
        "        with open(filename) as f:\n",
        "            reader = csv.reader(f)\n",
        "            self.pt = [\n",
        "                [int(pt) for pt in row] for row in reader\n",
        "            ]\n",
        "            self.J = len(self.pt)\n",
        "            self.M = len(self.pt[0])\n",
        "\n",
        "    def set_randomly(self, J, M):  # pt_jm is set randomly for specified J & M\n",
        "        self.J = J\n",
        "        self.M = M\n",
        "        self.pt = [\n",
        "            [random.randint(1, 60) for m in range(M)] for j in range(J)\n",
        "        ]\n",
        "\n",
        "    def make_schedule(self, seq=None):\n",
        "        if not seq:  # is seq is not given, it is set randomly\n",
        "            seq = list(range(self.J))  # seq = [0, 1, 2, ..., J]\n",
        "            random.shuffle(seq)  # randomize the order of elements in seq\n",
        "        self.st = [[0] *self.M for j in range(self.J)]  # start time of job j on machine m is initilized to be 0\n",
        "        last_ct = [0 for m in range(self.M)]  # when each machine finishes the last job (& becomes available) is also set to be 0\n",
        "        for j in seq:\n",
        "            last_ct_j = 0  # when job j is completed on the last machine (& becomes ready) is initially set to be 0\n",
        "            for m in range(self.M):\n",
        "                self.st[j][m] = max(last_ct_j, last_ct[m])\n",
        "                last_ct[m] = self.st[j][m] +self.pt[j][m]\n",
        "                last_ct_j = self.st[j][m] +self.pt[j][m]\n",
        "        print('Job sequence = ', seq)\n",
        "        print('Makespan = {}'.format(last_ct_j))\n",
        "\n",
        "    def draw_schedule(self):\n",
        "        operations = []\n",
        "        colors = {}\n",
        "        d_col = 255 /(self.J -1)\n",
        "        for j in range(self.J):\n",
        "            for m in range(self.M):\n",
        "                day = '2020-12-01 '  # dummy date\n",
        "                st_h, st_m = divmod(self.st[j][m], 60)\n",
        "                ct_h, ct_m = divmod(self.st[j][m] +self.pt[j][m], 60)\n",
        "                st_daytime = day +'{:02}:{:02}'.format(st_h, st_m)\n",
        "                ct_daytime = day +'{:02}:{:02}'.format(ct_h, ct_m)\n",
        "                operations.append(\n",
        "                    dict(Task='Machine'+str(m), Start=st_daytime, Finish=ct_daytime, Resource='Job'+str(j))\n",
        "                )\n",
        "                colors['Job'+str(j)] = 'rgb(' +str(int(d_col *j)) +',0,' +str(int(255 -d_col *j)) +')'\n",
        "        fig = ff.create_gantt(operations, colors=colors, index_col='Resource', show_colorbar=True, group_tasks=True)\n",
        "        fig.show()"
      ],
      "execution_count": null,
      "outputs": []
    },
    {
      "cell_type": "code",
      "metadata": {
        "id": "-QWGkCgIxDvC"
      },
      "source": [
        "class Node:\n",
        "    def __init__(self, jobs, seq=None):\n",
        "        self.jobs = jobs  # all jobs (Jobs class instance)\n",
        "        self.seq = []  # (partial) job sequence\n",
        "        self.rest = list(range(jobs.J))  # unassigned jobs\n",
        "        self.last_ct = [0] *jobs.M  # when each machine finishes the last job (& becomes available) is initially set to be 0\n",
        "        if seq:\n",
        "            self.set_seq(seq)\n",
        "\n",
        "    @property\n",
        "    def makespan(self):\n",
        "        pass\n",
        "\n",
        "    def assign(self, j):  # assign job j in rest\n",
        "        pass\n",
        "\n",
        "    def set_seq(self, seq):  # set (partial) job sequence at a time\n",
        "        pass\n",
        "\n",
        "    def is_complete(self):  # is this a full schedule?\n",
        "        pass"
      ],
      "execution_count": null,
      "outputs": []
    },
    {
      "cell_type": "markdown",
      "metadata": {
        "id": "KLYMinYOxJ1d"
      },
      "source": [
        "ただし，上のNodeクラスは各メソッドの中身が記述されていないスケルトンですので，第3\n",
        "部の初回の演習課題で作成したコードに置き換えてから実行するようにします．\n",
        "\n"
      ]
    },
    {
      "cell_type": "markdown",
      "metadata": {
        "id": "9hgiSrdRxdgl"
      },
      "source": [
        "## 総合演習 1\n",
        "\n",
        "### 課題 1-1\n",
        "\n",
        "- なるべく規模の大きいスケジューリング問題を扱えるような厳密解法を考案，実装しよう．\n",
        "\n",
        "この課題の解法は，NodeSetクラスのメソッドとして実装すると便利です．ただし，NodeSetクラスを利用するのは必須ではありません．もし利用しない場合は，下記のコードを消して，自分たちのコードで置き換えてください．\n"
      ]
    },
    {
      "cell_type": "code",
      "metadata": {
        "id": "h7G8vu8th48z"
      },
      "source": [
        "class NodeSet:  # the set of nodes to be checked\n",
        "    def __init__(self, jobs):\n",
        "        self.nodes = [Node(jobs)]  # only the root node\n",
        "        self.best_seq = None  # best job sequence found so far\n",
        "        self.best_ms = sys.maxsize  # its makespan\n",
        "\n",
        "    def your_solution(self):  # you can chage the name of this method\n",
        "      pass"
      ],
      "execution_count": null,
      "outputs": []
    },
    {
      "cell_type": "markdown",
      "metadata": {
        "id": "nisTvEFyi1t7"
      },
      "source": [
        "### 実装した厳密解法の基本的な考え方\n",
        "\n",
        "<<< この文を消して，ここに上で実装した厳密解法についての説明を記入してください． >>>"
      ]
    },
    {
      "cell_type": "markdown",
      "metadata": {
        "id": "zNRb38KZjzJZ"
      },
      "source": [
        "### 課題 1-2\n",
        "\n",
        "- ジョブ数Jと機械数Mを変化させて，そのアルゴリズムの計算時間を評価しよう．\n",
        "\n",
        "計算時間の評価は，次のようにして行うことができます．"
      ]
    },
    {
      "cell_type": "code",
      "metadata": {
        "id": "DHs2A7LjkRqe"
      },
      "source": [
        "import time\n",
        "\n",
        "jobs = Jobs()\n",
        "jobs.set_randomly(7, 5)  # J = 7, M = 5\n",
        "tree = NodeSet(jobs)\n",
        "\n",
        "start = time.perf_counter()\n",
        "best_seq, best_ms = tree.your_solution()\n",
        "end = time.perf_counter()\n",
        "\n",
        "print('calculation time = {}'.format(end -start))"
      ],
      "execution_count": null,
      "outputs": []
    },
    {
      "cell_type": "markdown",
      "metadata": {
        "id": "VRchIuDAmP5d"
      },
      "source": [
        "### 実装した厳密解法の計算時間の評価結果\n",
        "\n",
        "<<< この文を消して，ここに上で実装した厳密解法の計算時間の評価結果を記入してください． >>>"
      ]
    },
    {
      "cell_type": "markdown",
      "metadata": {
        "id": "PKcT0SzmjYic"
      },
      "source": [
        "## 総合演習 2\n",
        "\n",
        "### 課題 2-1\n",
        "\n",
        "- 厳密解法では対応困難な大規模なスケジューリング問題に対して，なるべく質の高い解が得られるような近似解法を考案，実装しよう．\n"
      ]
    },
    {
      "cell_type": "code",
      "metadata": {
        "id": "czXFZL8fpy_u"
      },
      "source": [
        "# write your code here"
      ],
      "execution_count": null,
      "outputs": []
    },
    {
      "cell_type": "markdown",
      "metadata": {
        "id": "dRmJA5z3mh67"
      },
      "source": [
        "### 課題 2-2\n",
        "\n",
        "- 用意された複数のサンプル問題にそのアルゴリズムを適用して，得られる解の質を評価しよう．"
      ]
    },
    {
      "cell_type": "markdown",
      "metadata": {
        "id": "tACDxuGnHDBR"
      },
      "source": [
        "なお，サンプル問題のcsvファイル（例えば，instance01.csv）をもとにJobsクラスのインスタンスを生成するには，（このファイルをアップローとした上で）下記のようにすればよい．"
      ]
    },
    {
      "cell_type": "code",
      "metadata": {
        "id": "cRtf-ZhlqAjN"
      },
      "source": [
        "jobs = Jobs()\n",
        "jobs.set_by_csv_file('instance01.csv')"
      ],
      "execution_count": null,
      "outputs": []
    },
    {
      "cell_type": "markdown",
      "metadata": {
        "id": "iFegFNsomtrl"
      },
      "source": [
        "## 個人別のレポート課題\n",
        "\n",
        "この節の前までは，グループワークの結果をまとめてもらう箇所なので，グループで共通の内容を記入すればOKです．ここ以降は，個人別のレポート課題ですので，同じグループでもメンバーごとにそれぞれ自分自身が考えた内容を記入してください．\n",
        "\n",
        "### 課題 3-1\n",
        "\n",
        "- グループワークで実装した厳密解法をさらに改善するとしたら，具体的にどのような改善内容が考えられるでしょう？"
      ]
    },
    {
      "cell_type": "markdown",
      "metadata": {
        "id": "shMlzU29niav"
      },
      "source": [
        "<<< この文を消して，ここに課題3-1の解答を記入してください． >>>"
      ]
    },
    {
      "cell_type": "markdown",
      "metadata": {
        "id": "qr8JA0NInzzl"
      },
      "source": [
        "### 課題 3-2\n",
        "\n",
        "- グループワークで実装した近似解法をさらに改善するとしたら，具体的にどのような改善内容が考えられるでしょう？"
      ]
    },
    {
      "cell_type": "markdown",
      "metadata": {
        "id": "YN8p8cjWn7OL"
      },
      "source": [
        "<<< この文を消して，ここに課題3-2の解答を記入してください． >>>"
      ]
    },
    {
      "cell_type": "markdown",
      "metadata": {
        "id": "dToFPpjan9aN"
      },
      "source": [
        "### 課題 3-3\n",
        "\n",
        "- グループワークでの自分を含む各メンバーの役割をそれぞれ説明してください．\n",
        "- 自分を含む各メンバーの貢献度をそれぞれ100点満点で評価し，その根拠を説明してください．"
      ]
    },
    {
      "cell_type": "markdown",
      "metadata": {
        "id": "EpmWdALnoI5Z"
      },
      "source": [
        "<<< この文を消して，ここに課題3-3の解答を記入してください． >>>"
      ]
    },
    {
      "cell_type": "markdown",
      "metadata": {
        "id": "vpRkSFkixaeW"
      },
      "source": [
        "## まとめ\n",
        "\n",
        "演習課題のコードは，提出前に必ず動作を確認しておくこと．動作しないコードは採点対象になりません．また，考察課題も，所定の欄に直接書き込んでもらえればOKです．\n",
        "\n",
        "最後に，このGoogle Colabのノートブックを<b>ipynb形式</b>で保存したファイルをコースパワーから提出すること．提出の〆切は，講義の翌週火曜日の24時とします．"
      ]
    }
  ]
}