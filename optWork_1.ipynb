{
  "nbformat": 4,
  "nbformat_minor": 0,
  "metadata": {
    "colab": {
      "provenance": [],
      "authorship_tag": "ABX9TyNDtB6D5pljp3HWCMOBH2Fd",
      "include_colab_link": true
    },
    "kernelspec": {
      "name": "python3",
      "display_name": "Python 3"
    }
  },
  "cells": [
    {
      "cell_type": "markdown",
      "metadata": {
        "id": "view-in-github",
        "colab_type": "text"
      },
      "source": [
        "<a href=\"https://colab.research.google.com/github/j54854/myColab/blob/main/optWork_1.ipynb\" target=\"_parent\"><img src=\"https://colab.research.google.com/assets/colab-badge.svg\" alt=\"Open In Colab\"/></a>"
      ]
    },
    {
      "cell_type": "markdown",
      "metadata": {
        "id": "gWCVVgG1rhCd"
      },
      "source": [
        "# 最適化技術実験（第3部1回目）\n"
      ]
    },
    {
      "cell_type": "markdown",
      "metadata": {
        "id": "g-oPIkODSdy8"
      },
      "source": [
        "---\n",
        "\n",
        "## 学生番号\n",
        "\n",
        "157xxxxx\n",
        "\n",
        "---\n",
        "\n",
        "## 氏名\n",
        "\n",
        "青山　太郎\n",
        "\n",
        "---\n",
        "\n"
      ]
    },
    {
      "cell_type": "markdown",
      "metadata": {
        "id": "SiUKa5z4fgRd"
      },
      "source": [
        "## Jobsクラスの説明\n",
        "\n",
        "第3部では，フローショップスケジューリングに関するいくつかの機能を実装してみるという演習課題に取り組みます．演習の中で下記のJobsクラスを利用しますので，最初にその概要を説明しておきましょう．"
      ]
    },
    {
      "cell_type": "code",
      "metadata": {
        "id": "I07FPrSdgYS5"
      },
      "source": [
        "import csv\n",
        "import random\n",
        "import sys\n",
        "import time\n",
        "import plotly.figure_factory as ff\n",
        "\n",
        "class Jobs:\n",
        "    def __init__(self, pt=None):\n",
        "        if pt:  # pt must be 2-dimensional list of integers\n",
        "            self.pt = pt  # pt[j][m]: processing time of job j on machine m\n",
        "            self.J = len(self.pt)  # number of jobs\n",
        "            self.M = len(self.pt[0])  # number of machines\n",
        "        else:  # if pt is not given\n",
        "            pass  # do nothing (pt, J, M sould be set later)\n",
        "\n",
        "    def save_in_csv_file(self, filename):  # pt_jm is saved in a csv file\n",
        "        with open(filename, 'w') as f:\n",
        "            writer = csv.writer(f)\n",
        "            for j in range(self.J):\n",
        "                writer.writerow(self.pt[j])\n",
        "\n",
        "    def set_by_csv_file(self, filename):  # pt, J & M are set by a csv file, where rows correespond to jobs and columns correspond to machines\n",
        "        with open(filename) as f:\n",
        "            reader = csv.reader(f)\n",
        "            self.pt = [\n",
        "                [int(pt) for pt in row] for row in reader\n",
        "            ]\n",
        "            self.J = len(self.pt)\n",
        "            self.M = len(self.pt[0])\n",
        "\n",
        "    def set_randomly(self, J, M):  # pt_jm is set randomly for specified J & M\n",
        "        self.J = J\n",
        "        self.M = M\n",
        "        self.pt = [\n",
        "            [random.randint(1, 60) for m in range(M)] for j in range(J)\n",
        "        ]\n",
        "\n",
        "    def make_schedule(self, seq=None):\n",
        "        if not seq:  # if seq is not given, it is set randomly\n",
        "            seq = list(range(self.J))  # seq = [0, 1, 2, ..., J]\n",
        "            random.shuffle(seq)  # randomize the order of elements in seq\n",
        "        self.st = [[0] *self.M for j in range(self.J)]  # start time of job j on machine m is initilized to be 0\n",
        "        last_ct = [0 for m in range(self.M)]  # when each machine finishes the last job (& becomes available) is also set to be 0\n",
        "        for j in seq:\n",
        "            last_ct_j = 0  # when job j is completed on the last machine (& becomes ready) is initially set to be 0\n",
        "            for m in range(self.M):\n",
        "                self.st[j][m] = max(last_ct_j, last_ct[m])\n",
        "                last_ct[m] = self.st[j][m] +self.pt[j][m]\n",
        "                last_ct_j = self.st[j][m] +self.pt[j][m]\n",
        "        print('Job sequence = ', seq)\n",
        "        print('Makespan = {}'.format(last_ct_j))\n",
        "\n",
        "    def draw_schedule(self):\n",
        "        operations = []\n",
        "        for j in range(self.J):\n",
        "            for m in range(self.M):\n",
        "                day = '2020-12-01 '  # dummy date\n",
        "                st_h, st_m = divmod(self.st[j][m], 60)\n",
        "                ct_h, ct_m = divmod(self.st[j][m] +self.pt[j][m], 60)\n",
        "                st_daytime = day +'{:02}:{:02}'.format(st_h, st_m)\n",
        "                ct_daytime = day +'{:02}:{:02}'.format(ct_h, ct_m)\n",
        "                operations.append(\n",
        "                    dict(Task='Machine'+str(m), Start=st_daytime, Finish=ct_daytime, Resource='Job'+str(j))\n",
        "                )\n",
        "        fig = ff.create_gantt(operations, index_col='Resource', show_colorbar=True, group_tasks=True)\n",
        "        fig.show()"
      ],
      "execution_count": null,
      "outputs": []
    },
    {
      "cell_type": "markdown",
      "metadata": {
        "id": "i8q44DT2ffpZ"
      },
      "source": [
        "このクラスは，スケジューリング問題の対象ジョブに関する情報（ジョブ数J，機械数M，ジョブjを機械mで処理するのにかかる処理時間pt[j][m]など）を表現するためのクラスです．処理時間は，\n",
        "\n",
        "- コンストラクタに直接，ジョブ数J×機械数Mの2次元リストを渡す\n",
        "\n",
        "- 行がジョブ，列が機械に対応する表形式のcsvファイルから読み込む（set_by_csv_file()メソッド）\n",
        "\n",
        "- ジョブ数Jと機械数Mを指定してランダムに生成する（set_randomly()メソッド）\n",
        "\n",
        "のいずれかで設定できるようになっています．手動で指定する場合，各処理時間pt[j][m]は正の整数値で与えてください．"
      ]
    },
    {
      "cell_type": "markdown",
      "metadata": {
        "id": "VK_maMZpjxYP"
      },
      "source": [
        "例えば，自動でランダムに設定する場合は，次のようにします．"
      ]
    },
    {
      "cell_type": "code",
      "metadata": {
        "id": "3AIL5a1Aj4e_"
      },
      "source": [
        "jobs = Jobs()  # create an empty instance\n",
        "jobs.set_randomly(5, 4)  # arguments are (the number of jobs: J, the number of machines: M)\n",
        "print(jobs.pt)"
      ],
      "execution_count": null,
      "outputs": []
    },
    {
      "cell_type": "markdown",
      "metadata": {
        "id": "6iUqpRMjmOCT"
      },
      "source": [
        "なお，このようにランダムに設定した処理時間の値はsave_in_csv_file()メソッドでcsvファイルにセーブすることができます．\n",
        "\n",
        "また，処理時間を2次元リストを用いて手動で設定する方法は次のとおりです．"
      ]
    },
    {
      "cell_type": "code",
      "metadata": {
        "id": "TIq1aqvGmXsR"
      },
      "source": [
        "pt = [\n",
        "        [35, 7, 18, 20],\n",
        "        [4, 60, 12, 10],\n",
        "        [15, 15, 20, 30],\n",
        "        [11, 25, 10, 35],\n",
        "        [33, 1, 45, 12]\n",
        "    ]\n",
        "jobs = Jobs(pt)\n",
        "print(jobs.pt)"
      ],
      "execution_count": null,
      "outputs": []
    },
    {
      "cell_type": "markdown",
      "metadata": {
        "id": "WUBoD3FZnAWB"
      },
      "source": [
        "フローショップの（前詰め）スケジュールは，ジョブの順序のみによって決まります．Jobsクラスでは，あるジョブの順序seqに対応したスケジュールを描画することもできるようになっています．\n",
        "\n",
        "次のように，まずmake_schedule()メソッドにseqを渡すと，各オペレーション（各ジョブの各機械上での処理）の開始時刻，終了時刻，そしてメイクスパンが計算され，続いてdraw_schedule()メソッドを呼ぶとその結果がガントチャートとして描画されるという流れです（seqを明示的に指定しなかった場合はseq=Noneとなり，ランダムな順序が１つ選ばれるようになっています）．"
      ]
    },
    {
      "cell_type": "code",
      "metadata": {
        "id": "eFh4mbABoNVT"
      },
      "source": [
        "seq = [0, 2, 4, 3, 1]\n",
        "jobs.make_schedule(seq)\n",
        "jobs.draw_schedule()"
      ],
      "execution_count": null,
      "outputs": []
    },
    {
      "cell_type": "markdown",
      "metadata": {
        "id": "TIYi2GVbo5br"
      },
      "source": [
        "なお，ガントチャートの右に出る凡例でジョブの並びがランダムになってしまうのですが，これは描画に使用しているライブラリの仕様上の問題なので気にしないでください．"
      ]
    },
    {
      "cell_type": "markdown",
      "metadata": {
        "id": "Z9pk5O4bpEAP"
      },
      "source": [
        "## Nodeクラスの完成\n",
        "\n",
        "それでは，演習課題の説明に進みましょう．最初の課題は，下記のNodeクラス内のいくつかのメソッドを完成させることです．\n",
        "\n",
        "Nodeクラスは，可能なジョブの順序を表す順列を探索・列挙していくための探索木の各ノードを表現するためのクラスです．各ノードは，ジョブの順序が途中まで指定された，順列の部分集合に対応しています．self.jobsは，対象としているスケジューリング問題の情報を保持したJobsクラスのインスタンス，self.seqは，指定されている途中までのジョブの並びを保持したリスト，self.restは，まだ順序が指定されていない未割付のジョブを集めたリストになっています．self.last_ctは，機械数Mの長さのリストで，各self.last_ct[m]には，機械mが，self.seqに含まれる割付済みジョブをすべて処理し終える時刻を格納します．\n",
        "\n",
        "Nodeクラスのインスタンス生成時にseqを指定しなかった場合（すなわち，Node(jobs)の形でインスタンスを生成した場合）は，割付済みジョブが存在しない根ノード（可能なすべての順列を含んだ集合に対応するノード）が得られるようになっています．一方，部分順列seqを明示的に指定した場合（すなわち，Node(jobs, seq)の形でインスタンスを生成した場合）は，seqに指定される順にジョブをいくつか割り付けた部分スケジュールに対応するノードが返されます（`__init__()`メソッドの最後の2行を見てください）．\n",
        "\n",
        "したがって，あるNodeクラスのインスタンスnodeのコピーが必要な場合は，Node(node.jobs, node.seq)で生成することができます．"
      ]
    },
    {
      "cell_type": "code",
      "metadata": {
        "id": "x-g_6qvopZmx"
      },
      "source": [
        "class Node:\n",
        "    def __init__(self, jobs, seq=None):\n",
        "        self.jobs = jobs  # all jobs (Jobs class instance)\n",
        "        self.seq = []  # (partial) job sequence\n",
        "        self.rest = list(range(jobs.J))  # unassigned jobs\n",
        "        self.last_ct = [0] *jobs.M  # when each machine finishes the last job (& becomes available) is initially set to be 0\n",
        "        if seq:\n",
        "            self.set_seq(seq)\n",
        "\n",
        "    @property\n",
        "    def makespan(self):\n",
        "        pass\n",
        "\n",
        "    def assign(self, j):  # assign job j in rest\n",
        "        pass\n",
        "\n",
        "    def set_seq(self, seq):  # set (partial) job sequence at a time\n",
        "        pass\n",
        "\n",
        "    def is_complete(self):  # is this a full schedule?\n",
        "        pass"
      ],
      "execution_count": null,
      "outputs": []
    },
    {
      "cell_type": "markdown",
      "metadata": {
        "id": "4fjvzmrg_9Sp"
      },
      "source": [
        "### 演習課題 1-1\n",
        "\n",
        "各ノードにおいて，割付済みジョブ（self.seqに含まれるジョブ）だけを考えた部分スケジュールのメイクスパンを返すメソッドmakespan()を完成させてみましょう．具体的には，passを削除して，必要なコードを書き加えてください（以下の課題でも同じです）．\n",
        "\n",
        "なお，上のサンプルコードでは，このメソッドの定義の前に@propertyというデコレータが指定されています．これは，Nodeクラスのあるインスタンスnodeについて，このメイクスパンをnode.nakespan()という形ではなく，あたかも変数のようにnode.makespanとして参照できるようにするものです（メソッド呼び出しのための()が不要になります）．"
      ]
    },
    {
      "cell_type": "markdown",
      "metadata": {
        "id": "3DFd52azBFyO"
      },
      "source": [
        "### 演習課題 1-2\n",
        "\n",
        "あるジョブjをself.seqの末尾に割り付けるメソッドassign()を完成させてください．この新たに割り付けたジョブjを未割付ジョブの集合self.restから削除することも必要です．また，新しいジョブが割り付けられることによって各機械mの作業終了時刻も変化します．それに合わせて，self.last_ct[m]の値も適切に更新するようにしましょう．"
      ]
    },
    {
      "cell_type": "markdown",
      "metadata": {
        "id": "_jtFXO3h8JeC"
      },
      "source": [
        "### 演習課題 1-3\n",
        "\n",
        "複数のジョブを指定の順序で割り付けていくメソッドset_seq()を完成させましょう．なお，このメソッドの引数seqは，新たに割り付けたいジョブとそれらの順序を指定するリストです．このメソッドの中で，上のassign()を利用すると便利です．"
      ]
    },
    {
      "cell_type": "markdown",
      "metadata": {
        "id": "m12JK7Iz-29f"
      },
      "source": [
        "### 演習課題 1-4\n",
        "\n",
        "このノードが葉ノードかどうかを判定するメソッドis_complete()を完成させてみましょう．ここに，葉ノードとは，それ以上分枝させることができない末端ノードのことで，そこではself.seqにすべてのジョブが含まれ，self.restが空になっているはずです．葉ノードであればTrue，そうでなければFalseを返すように実装してください．"
      ]
    },
    {
      "cell_type": "markdown",
      "metadata": {
        "id": "epB-F2h5eokK"
      },
      "source": [
        "なお，これらの課題で完成させたメソッドは，次のようにして動作確認しておきましょう．"
      ]
    },
    {
      "cell_type": "code",
      "metadata": {
        "id": "9A6xiH8ye73_"
      },
      "source": [
        "pt = [\n",
        "        [35, 7, 18, 20],\n",
        "        [4, 60, 12, 10],\n",
        "        [15, 15, 20, 30],\n",
        "        [11, 25, 10, 35],\n",
        "        [33, 1, 45, 12]\n",
        "    ]\n",
        "node = Node(Jobs(pt))\n",
        "\n",
        "node.assign(0)\n",
        "print(node.makespan)\n",
        "print(node.is_complete())\n",
        "\n",
        "node.set_seq([1,2,3])\n",
        "print(node.makespan)\n",
        "print(node.is_complete())"
      ],
      "execution_count": null,
      "outputs": []
    },
    {
      "cell_type": "markdown",
      "metadata": {
        "id": "Dgff9dt3pm2Z"
      },
      "source": [
        "## 関数の再帰呼出しによる順列の列挙\n",
        "\n",
        "順列の探索木を根ノードから順に構成していくことで，可能な順列をすべて系統的に列挙していくことができます．そして，そのための方法として，関数の再帰呼出しがよく用いられます．ここでは，関数の再帰呼出しによる順列の列挙に挑戦してみましょう．\n",
        "\n",
        "\n"
      ]
    },
    {
      "cell_type": "markdown",
      "metadata": {
        "id": "Yt-N0p3xEIsC"
      },
      "source": [
        "### 演習課題 2\n",
        "\n",
        "下の関数enumerate_all()を完成させてください．この関数には，中で自分自身を呼び出す再帰的な構造を持たせるようにします．そして，根ノードを渡して呼び出す（すなわち，enumerate_all(Node(jobs))の形で呼び出す）と，最終的に完全な探索木が構成され，すべての順列が列挙されるようにします．\n"
      ]
    },
    {
      "cell_type": "code",
      "metadata": {
        "id": "dlQoqDJhpuNJ"
      },
      "source": [
        "def enumerate_all(node):\n",
        "    pass"
      ],
      "execution_count": null,
      "outputs": []
    },
    {
      "cell_type": "markdown",
      "metadata": {
        "id": "NH5TcCB_EPLO"
      },
      "source": [
        "下のenumerate_all(Node(jobs))を実行すると，\n",
        "\n",
        "[0, 1, 2, 3, 4]\n",
        "\n",
        "[0, 1, 2, 4, 3]\n",
        "\n",
        "[0, 1, 3, 2, 4]\n",
        "\n",
        "...\n",
        "\n",
        "[4, 3, 2, 1, 0]\n",
        "\n",
        "という具合に，可能なすべての順列が表示されればOKです．\n"
      ]
    },
    {
      "cell_type": "code",
      "metadata": {
        "id": "GtCNmy6REdR9"
      },
      "source": [
        "enumerate_all(Node(jobs))"
      ],
      "execution_count": null,
      "outputs": []
    },
    {
      "cell_type": "markdown",
      "metadata": {
        "id": "lL1vhxiNpuo6"
      },
      "source": [
        "## 関数の再帰呼出しを利用したスケジュールの全数探索\n",
        "\n",
        "最後に，演習課題1と2の結果を組み合わせて，メイクスパン最小のスケジュール（とそれに対応するジョブの順序を表す順列）を見つけ出す全数探索に挑戦しよう．\n",
        "\n",
        "### 演習課題 3\n",
        "\n",
        "あるNodeクラスのインスタンスnodeが葉ノードかどうかはnode.is_complete()で判断できます．そして，nodeが葉ノードの場合，node.seqは完全な順列になり，それに対応するスケジュールのメイクスパンはnode.makespanで与えられます．これらを参考に，上のenumerate_all()関数を拡張することで，全数探索のための関数recursive_search()を完成させよう．なお，best_seqには（それまでに列挙した中で）最適な順列，best_msにはその順列に対応するスケジュールのメイクスパンを格納するようにします．"
      ]
    },
    {
      "cell_type": "code",
      "metadata": {
        "id": "twi9YyNyp8tF"
      },
      "source": [
        "def recursive_search(node, best_seq=None, best_ms=sys.maxsize):\n",
        "    pass\n",
        "    return best_seq, best_ms"
      ],
      "execution_count": null,
      "outputs": []
    },
    {
      "cell_type": "markdown",
      "metadata": {
        "id": "J9tgh3wCIgC4"
      },
      "source": [
        "実装し終わったら，下記のコードで動作を確認しておきましょう．最後に最適なスケジュールが描画されれば完成です．"
      ]
    },
    {
      "cell_type": "code",
      "metadata": {
        "id": "VOvM9-lBIgzC"
      },
      "source": [
        "best_seq, best_ms = recursive_search(Node(jobs))\n",
        "jobs.make_schedule(best_seq)\n",
        "jobs.draw_schedule()"
      ],
      "execution_count": null,
      "outputs": []
    },
    {
      "cell_type": "markdown",
      "source": [
        "## 発展課題（時間が余った人向け）\n",
        "\n",
        "上の全数探索のコードを分枝限定法に拡張してみよう．"
      ],
      "metadata": {
        "id": "S2a_kzSlnxsM"
      }
    },
    {
      "cell_type": "code",
      "source": [
        "# write your code here"
      ],
      "metadata": {
        "id": "lj-CeOWJoKGX"
      },
      "execution_count": null,
      "outputs": []
    },
    {
      "cell_type": "markdown",
      "metadata": {
        "id": "kuUxEM_9p9fL"
      },
      "source": [
        "## 考察課題\n",
        "\n",
        "最後に，今回の講義と課題に関連して，下記の項目について考察してみましょう．下の欄に直接書き込んで提出してください．\n",
        "\n",
        "- 上のenumerate_all()やrecursive_search()では探索木のノードはどのような順序でチェックされていくか．\n",
        "\n",
        "- ノードをチェックしていく順序を変更することに意味はあるか．\n",
        "\n",
        "- ノードをチェックしていく順序を自由に変更できるようにするにはどうすればよいか．"
      ]
    },
    {
      "cell_type": "markdown",
      "metadata": {
        "id": "UPtrIHF5JOC6"
      },
      "source": [
        "### 考察記入欄\n",
        "\n",
        "この文を消して，代わりに，自分の考察を記入してください．\n",
        "\n"
      ]
    },
    {
      "cell_type": "markdown",
      "metadata": {
        "id": "TC5Lh018qIOt"
      },
      "source": [
        "## まとめ\n",
        "\n",
        "演習課題のコードは，所定の箇所に（passを消してから）直接書き込んでください．提出前に必ず動作を確認しておくこと．動作しないコードは採点対象になりません．また，考察課題も，所定の欄に直接書き込んでもらえればOKです．\n",
        "\n",
        "最後に，このGoogle Colabのノートブックを\n",
        "\n",
        "★☆★ <b>ipynb形式</b> ★☆★\n",
        "\n",
        "で保存したファイルをコースパワーから提出すること．提出の〆切は，\n",
        "\n",
        "★☆★ <b>18:20</b> ★☆★\n",
        "\n",
        "とします．"
      ]
    }
  ]
}