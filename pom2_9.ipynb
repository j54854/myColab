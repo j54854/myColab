{
  "nbformat": 4,
  "nbformat_minor": 0,
  "metadata": {
    "colab": {
      "provenance": [],
      "authorship_tag": "ABX9TyOvdVV4wGGzZQ/gQR8vg9j1",
      "include_colab_link": true
    },
    "kernelspec": {
      "name": "python3",
      "display_name": "Python 3"
    },
    "language_info": {
      "name": "python"
    }
  },
  "cells": [
    {
      "cell_type": "markdown",
      "metadata": {
        "id": "view-in-github",
        "colab_type": "text"
      },
      "source": [
        "<a href=\"https://colab.research.google.com/github/j54854/myColab/blob/main/pom2_9.ipynb\" target=\"_parent\"><img src=\"https://colab.research.google.com/assets/colab-badge.svg\" alt=\"Open In Colab\"/></a>"
      ]
    },
    {
      "cell_type": "markdown",
      "source": [
        "# 生産管理技術2_9の補助資料\n",
        "この補助資料では、生産管理技術2の講義で扱ったジョブショップスケジューリング問題を、PuLP（とフリーのソルバーCBC）を用いて解く方法を学ぶ。\n",
        "\n",
        "## 簡単な数値例\n",
        "\n",
        "まず、講義内で取り上げた、ジョブショップスケジューリング問題の簡単な数値例を再掲しておこう（Pythonの都合でジョブ番号、工程番号、機械番号が 0 から始まるように変更されている点に注意）。\n",
        "\n",
        "## 加工経路\n",
        "\n",
        "| | 第0工程 | 第1工程 | 第2工程 |\n",
        "| ---- | :----: | :----: | :----: |\n",
        "| J0 | M2 | M0 | M1 |\n",
        "| J1 | M0 | M2 | M1 |\n",
        "| J2 | M1 | M2 | M0 |\n",
        "\n",
        "## 加工時間\n",
        "\n",
        "\n",
        "| | 第0工程 | 第1工程 | 第2工程 |\n",
        "| ---- | ---- | ---- | ---- |\n",
        "| J0 | 30 | 70 | 20 |\n",
        "| J1 | 40 | 40 | 60 |\n",
        "| J2 | 20 | 50 | 80 |\n",
        "\n"
      ],
      "metadata": {
        "id": "W8jHytHV0lRp"
      }
    },
    {
      "cell_type": "markdown",
      "source": [
        "最初に、このスケジューリング問題の情報をPythonで扱えるデータとして表現しておく（簡単のため、それぞれ独立な2次元リストとした）。ジョブ番号を j、工程番号を k とすると、これで、オペレーション (j, k) を処理する機械の番号を pr[j][k] で、それかかる加工時間を pt[j][k] で、それぞれ参照できるようになった。また、ジョブ数を n_job に、機械数（機械番号の最大値 +1）を n_mac に、それぞれ代入してある。"
      ],
      "metadata": {
        "id": "OrtNqB1nDDi9"
      }
    },
    {
      "cell_type": "code",
      "source": [
        "pr = [  # processing routes: pr[j][k]\n",
        "    [2, 0, 1],\n",
        "    [0, 2, 1],\n",
        "    [1, 2, 0]\n",
        "]\n",
        "\n",
        "pt = [  # processing times: pt[j][k]\n",
        "    [30, 70, 20],\n",
        "    [40, 40, 60],\n",
        "    [20, 50, 80]\n",
        "]\n",
        "\n",
        "n_job = len(pr)  # number of jobs\n",
        "n_mac = max(sum(pr, [])) +1  # number of machines (A bit tricky, but sum(pr, []) flattens pr.)\n",
        "\n",
        "print('There are {} jobs and {} machines.'.format(n_job, n_mac))"
      ],
      "metadata": {
        "id": "DW5pa9fuCd_t",
        "colab": {
          "base_uri": "https://localhost:8080/"
        },
        "outputId": "7c6f3092-5bab-4ac1-ef69-e90980239909"
      },
      "execution_count": null,
      "outputs": [
        {
          "output_type": "stream",
          "name": "stdout",
          "text": [
            "There are 3 jobs and 3 machines.\n"
          ]
        }
      ]
    },
    {
      "cell_type": "markdown",
      "source": [
        "今後、必要に応じて、参照したいオペレーション (j, k) をすぐに見つけられるように、ここで、オペレーションのリストをいくつか定義しておこう。op_all は、すべてのオペレーションを含むリスト、op_j[j] は、ジョブ j を構成するオペレーションのリスト、op_m[m] は機械 m で処理されるオペレーションのリストである。"
      ],
      "metadata": {
        "id": "5wWDce4nKXAQ"
      }
    },
    {
      "cell_type": "code",
      "source": [
        "op_all = []  # list of all operations\n",
        "op_j = [[] for _ in range(n_job)]  # operations of each job\n",
        "op_m = [[] for _ in range(n_mac)]  # operations on each machine\n",
        "\n",
        "for j in range(n_job):\n",
        "  for k in range(len(pr[j])):\n",
        "    op_all.append((j, k))\n",
        "    op_j[j].append((j, k))\n",
        "    op_m[pr[j][k]].append((j, k))\n",
        "\n",
        "print('All operations:', op_all)\n",
        "for j in range(n_job):\n",
        "  print('Operations of job {}:'.format(j), op_j[j])\n",
        "for m in range(n_mac):\n",
        "  print('Operations on machine {}:'.format(m), op_m[m])"
      ],
      "metadata": {
        "id": "TTMOQ2oiLKVA",
        "colab": {
          "base_uri": "https://localhost:8080/"
        },
        "outputId": "f5c2fa51-28a1-437c-d98a-7b83cae778da"
      },
      "execution_count": null,
      "outputs": [
        {
          "output_type": "stream",
          "name": "stdout",
          "text": [
            "All operations: [(0, 0), (0, 1), (0, 2), (1, 0), (1, 1), (1, 2), (2, 0), (2, 1), (2, 2)]\n",
            "Operations of job 0: [(0, 0), (0, 1), (0, 2)]\n",
            "Operations of job 1: [(1, 0), (1, 1), (1, 2)]\n",
            "Operations of job 2: [(2, 0), (2, 1), (2, 2)]\n",
            "Operations on machine 0: [(0, 1), (1, 0), (2, 2)]\n",
            "Operations on machine 1: [(0, 2), (1, 2), (2, 0)]\n",
            "Operations on machine 2: [(0, 0), (1, 1), (2, 1)]\n"
          ]
        }
      ]
    },
    {
      "cell_type": "markdown",
      "source": [
        "ジョブショップスケジューリング問題では、2つのオペレーション (i, k) と (j, l) が同じ機械上で処理される場合、それらの順序を指定する必要があった。ここで、順序を指定する必要のあるオペレーションのペアを表す (i, k, j, l) のリストも作っておこう。"
      ],
      "metadata": {
        "id": "usrdfcTphFDu"
      }
    },
    {
      "cell_type": "code",
      "source": [
        "x_keys = []  #　list of (i, k, j, l) to be considered\n",
        "\n",
        "for ops in op_m:\n",
        "  for n, (i, k) in enumerate(ops):\n",
        "    for (j, l) in ops[n +1:]:\n",
        "      x_keys.append((i, k, j, l))\n",
        "\n",
        "print(x_keys)"
      ],
      "metadata": {
        "id": "Z7s6fiUoifvJ",
        "colab": {
          "base_uri": "https://localhost:8080/"
        },
        "outputId": "6665554f-72d6-46a9-b6c1-d657f1f135ab"
      },
      "execution_count": null,
      "outputs": [
        {
          "output_type": "stream",
          "name": "stdout",
          "text": [
            "[(0, 1, 1, 0), (0, 1, 2, 2), (1, 0, 2, 2), (0, 2, 1, 2), (0, 2, 2, 0), (1, 2, 2, 0), (0, 0, 1, 1), (0, 0, 2, 1), (1, 1, 2, 1)]\n"
          ]
        }
      ]
    },
    {
      "cell_type": "markdown",
      "source": [
        "続いて、この問題をPuLPを使って解いていく。PuLPを利用できるようにするために、pipでPuLPをインストールしてから、それをインポートする。\n"
      ],
      "metadata": {
        "id": "f8jVeqqBCWt1"
      }
    },
    {
      "cell_type": "code",
      "source": [
        "!pip install pulp\n",
        "import pulp"
      ],
      "metadata": {
        "id": "SVVDjOPLBdiP",
        "colab": {
          "base_uri": "https://localhost:8080/"
        },
        "outputId": "b1270cd9-19e5-4c80-b592-118aca039119"
      },
      "execution_count": null,
      "outputs": [
        {
          "output_type": "stream",
          "name": "stdout",
          "text": [
            "Collecting pulp\n",
            "  Downloading PuLP-2.7.0-py3-none-any.whl (14.3 MB)\n",
            "\u001b[2K     \u001b[90m━━━━━━━━━━━━━━━━━━━━━━━━━━━━━━━━━━━━━━━━\u001b[0m \u001b[32m14.3/14.3 MB\u001b[0m \u001b[31m71.1 MB/s\u001b[0m eta \u001b[36m0:00:00\u001b[0m\n",
            "\u001b[?25hInstalling collected packages: pulp\n",
            "Successfully installed pulp-2.7.0\n"
          ]
        }
      ]
    },
    {
      "cell_type": "markdown",
      "source": [
        "次に、PuLPで問題（mip）を定義して、その問題（mip）に決定変数と目的関数を登録する。"
      ],
      "metadata": {
        "id": "fO8UwsvVBiqK"
      }
    },
    {
      "cell_type": "code",
      "source": [
        "mip = pulp.LpProblem('job_shop', sense=pulp.LpMinimize)  # minimization problem\n",
        "c_max = pulp.LpVariable('c_max', 0, None)  # makespan\n",
        "st = pulp.LpVariable.dicts('st', op_all, 0, None)  # starting times\n",
        "x = pulp.LpVariable.dicts('x', x_keys, cat=pulp.LpBinary)  # binary (0-1) variables\n",
        "mip += c_max  # objective function"
      ],
      "metadata": {
        "id": "PwyLZREIleWn"
      },
      "execution_count": null,
      "outputs": []
    },
    {
      "cell_type": "markdown",
      "source": [
        "続いて、制約条件を登録していく。まず、各ジョブの加工経路によって指定される、同一ジョブのオペレーション同士の順序関係の制約条件と，メイクスパンが各ジョブの最終オペレーションの終了時刻以降になる制約\n",
        "条件を追加する。"
      ],
      "metadata": {
        "id": "liNrSU6Al95F"
      }
    },
    {
      "cell_type": "code",
      "source": [
        "for ops in op_j:\n",
        "  for (j, k) in ops[:-1]:  # except for the last one\n",
        "    mip += st[(j, k +1)] -st[(j, k)] >= pt[j][k]\n",
        "  j, k = ops[-1] # the last operation\n",
        "  mip += c_max -st[(j, k)] >= pt[j][k]"
      ],
      "metadata": {
        "id": "KDmuJfYBl9C7"
      },
      "execution_count": null,
      "outputs": []
    },
    {
      "cell_type": "markdown",
      "source": [
        "次に、同一機械上で処理されるオペレーション間の制約条件を登録していく。この制約条件を線形式で表すために、Big-Mを使う。Big-Mの値が大きすぎると計算効率が落ちることがあるので、最初にBig-Mの値を「全オペレーションの加工時間の総和+1」に設定していることにも注意してほしい。"
      ],
      "metadata": {
        "id": "ezj35GZGpywt"
      }
    },
    {
      "cell_type": "code",
      "source": [
        "big_M = sum([pt[j][k] for (j, k) in op_all]) +1\n",
        "\n",
        "for i, k, j, l in x_keys:\n",
        "  mip += st[(i, k)] -st[(j, l)] +big_M * x[(i, k, j, l)] >= pt[j][l]\n",
        "  mip += st[(j, l)] -st[(i, k)] +big_M * (1 -x[(i, k, j, l)]) >= pt[i][k]"
      ],
      "metadata": {
        "id": "QPaujC1gp5vU"
      },
      "execution_count": null,
      "outputs": []
    },
    {
      "cell_type": "markdown",
      "source": [
        "これで問題を登録できた。念のため、登録した問題を確認しておこう。"
      ],
      "metadata": {
        "id": "r8fawchsy8om"
      }
    },
    {
      "cell_type": "code",
      "source": [
        "print(mip)"
      ],
      "metadata": {
        "id": "H2V-xqBgy977"
      },
      "execution_count": null,
      "outputs": []
    },
    {
      "cell_type": "markdown",
      "source": [
        "これで準備が整ったので、最後に、ソルバーで解を導出する。mip.solve()は、求解のためのメソッドの呼出しである。その返り値statusがOptimalになっていれば最適解が得られていることがわかる。"
      ],
      "metadata": {
        "id": "SqYzPcOwzM-7"
      }
    },
    {
      "cell_type": "code",
      "source": [
        "status = mip.solve()\n",
        "print(pulp.LpStatus[status])"
      ],
      "metadata": {
        "id": "pdHlD5lJzQXF"
      },
      "execution_count": null,
      "outputs": []
    },
    {
      "cell_type": "markdown",
      "source": [
        "最適解（における各オペレーションの開始時刻）とそのときの目的関数値（メイクスパン）は次のようにして確認すればよい。"
      ],
      "metadata": {
        "id": "A5NRX_qYzWND"
      }
    },
    {
      "cell_type": "code",
      "source": [
        "print('Starting times:')\n",
        "for (j, k) in op_all:\n",
        "  print('st[({}, {})] = {}'.format(j, k, st[(j, k)].value()))\n",
        "print('Objective function value: c_max = {}'.format(mip.objective.value()))\n"
      ],
      "metadata": {
        "id": "KSzPAmvVzZBg"
      },
      "execution_count": null,
      "outputs": []
    },
    {
      "cell_type": "markdown",
      "source": [
        "以上のように、pythonのPuLPライブラリ（とそれに付随しているフリーのソルバーCBC）を使うと、（0-1混合整数線形計画問題として定式化した） ジョブショップスケジューリング問題の解を求めることができる。"
      ],
      "metadata": {
        "id": "12o0EXeM1c0Z"
      }
    }
  ]
}