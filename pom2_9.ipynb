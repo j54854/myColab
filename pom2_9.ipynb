{
  "nbformat": 4,
  "nbformat_minor": 0,
  "metadata": {
    "colab": {
      "provenance": [],
      "authorship_tag": "ABX9TyOmcVbpMQ7R6GzYPjvGdobg",
      "include_colab_link": true
    },
    "kernelspec": {
      "name": "python3",
      "display_name": "Python 3"
    },
    "language_info": {
      "name": "python"
    }
  },
  "cells": [
    {
      "cell_type": "markdown",
      "metadata": {
        "id": "view-in-github",
        "colab_type": "text"
      },
      "source": [
        "<a href=\"https://colab.research.google.com/github/j54854/myColab/blob/main/pom2_9.ipynb\" target=\"_parent\"><img src=\"https://colab.research.google.com/assets/colab-badge.svg\" alt=\"Open In Colab\"/></a>"
      ]
    },
    {
      "cell_type": "markdown",
      "source": [
        "# 生産管理技術2_9の補助資料\n",
        "\n",
        "この補助資料では，生産管理技術2の第9回講義で扱ったオンラインジョブショップスケジューリングの事例で，ディスパッチングルールの性能比較のために用いた離散事象シミュレータについて簡単に説明する．\n",
        "\n",
        "## 想定するジョブショップ\n",
        "\n",
        "ここでは，ランダムに到着してくるJ個のジョブ（うちIJ個はシミュレーション開始時に到着済み）を，M台の機械で処理していくジョブショップを想定する．開始後に到着してくるジョブの到着間隔は，平均30の指数分布に従うものとしよう．\n",
        "\n",
        "各ジョブのオペレーション数は[2, M]の範囲でランダムに設定し，加工経路は同じ機械を複数回通ることがないようにランダムに定める．また，各オペレーションの処理時間は[5, 65]の一様乱数で与え，各ジョブの納期は到着時刻に総加工時間と[100, 1000]の一様乱数を加えた時点に設定することにする．\n",
        "\n",
        "\n",
        "比較対象のディスパッチングルールは，FIFO，LIFO，SPT，LPT，EDD，MS，MWKR，LRM，SPT/TMKRの9つである．"
      ],
      "metadata": {
        "id": "pbKB1wSqEuRq"
      }
    },
    {
      "cell_type": "markdown",
      "source": [
        "## コーディング\n",
        "\n",
        "最初に，上の情報を格納しておくための大域変数を用意し，後で利用するモジュール（random，math，matplotlib）を読み込んでおく．"
      ],
      "metadata": {
        "id": "p0CN8X8eH1_A"
      }
    },
    {
      "cell_type": "code",
      "source": [
        "import random, math\n",
        "import matplotlib.pyplot as plt\n",
        "\n",
        "M = 4  # number of machines\n",
        "J = 2200  # total number of jobs\n",
        "IJ = 10  # number of initial jobs\n",
        "LMD = 1 /30  # lambda (1 /mean time interval) of job arrival process\n",
        "RPT = (5, 65)  # range of possible processing time\n",
        "RIS = (100, 1000)  # range of possible initial slack\n",
        "RULE = 'spt'  # choose from 'fifo', 'lifo', 'spt', 'lpt', 'edd', 'ms', 'mwkr', 'lrm', 'spt_tmkr'"
      ],
      "metadata": {
        "id": "V418hSsuHtF-"
      },
      "execution_count": null,
      "outputs": []
    },
    {
      "cell_type": "markdown",
      "source": [
        "### イベントとカレンダー\n",
        "\n",
        "離散事象シミュレーションでは，イベントの発生をトリガーにしてシステムの状態を変化させていく．そのため，将来生起するイベントを，生起時間の順に並べたリストとして保持しておくと便利である（この\n",
        "リストは，イベントカレンダーと呼ばれる）．\n",
        "\n",
        "ここで，イベントとイベントカレンダーのクラスを作成しておこう．"
      ],
      "metadata": {
        "id": "PciXeBqsMWVA"
      }
    },
    {
      "cell_type": "code",
      "source": [
        "class Event:\n",
        "    def __init__(self, time, kind, job=None):\n",
        "        self.time = time  # occurrence time\n",
        "        self.kind = kind  # event type\n",
        "        self.job = job  # target job (if exists)\n",
        "\n",
        "class Calendar:\n",
        "    def __init__(self, horizon=None):\n",
        "        self.queue = []  # list of events\n",
        "        if horizon:  # if time horizon is specified\n",
        "            self.queue.append(Event(horizon, 'end'))\n",
        "\n",
        "    def is_empty(self):  # is this calendar empty?\n",
        "        return False if self.queue else True\n",
        "\n",
        "    def append(self, e):  # add a new event\n",
        "        self.queue.append(e)\n",
        "        self.queue.sort(key=lambda x: x.time)  # sort events chronologically\n",
        "\n",
        "    def trigger(self):  # trigger first event\n",
        "        e = self.queue.pop(0)\n",
        "        return e"
      ],
      "metadata": {
        "id": "P9trLPf2nR4u"
      },
      "execution_count": null,
      "outputs": []
    },
    {
      "cell_type": "markdown",
      "source": [
        "イベントクラスには，生起時刻（time），タイプ（kind），そして必要に応じて対象ジョブ（job）の情報を格納しておくためのフィールドが用意されている．\n",
        "\n",
        "カレンダークラスは，イベントのリスト（queue）を保持しており，インスタンス化の際に引数にhorizonを指定すると，そのhorizonの値を生起時刻とするシミュレーション終了イベント（'end'）が1つ追加されるようになっている（が，他の方法でシミュレーションを終了させる場合は必ずしもこの終了イベントを追加する必要はない）．trigger()メソッドは，queueの先頭から要素を取り出す．また，append()メソッドで要素を追加するたびに，生起時刻の昇順でのソート処理が走るようになっている．is_empty()は，queueが空かどうかを判定するメソッドである．"
      ],
      "metadata": {
        "id": "6zLzmGLzo6gW"
      }
    },
    {
      "cell_type": "markdown",
      "source": [
        "### ジョブとオペレーション\n",
        "\n",
        "続いて，ジョブとそれを構成するオペレーションを表すクラスを定義しよう．"
      ],
      "metadata": {
        "id": "AYi6ilTafgz7"
      }
    },
    {
      "cell_type": "code",
      "source": [
        "class Operation:\n",
        "    def __init__(self):\n",
        "        self.pt = random.randint(*RPT)  # processing time\n",
        "        self.st = None  # starting time\n",
        "        self.ct = None  # completion time\n",
        "\n",
        "    def is_done(self):  # is this operation done?\n",
        "        return True if self.ct else False"
      ],
      "metadata": {
        "id": "HUX7xph4o7Av"
      },
      "execution_count": null,
      "outputs": []
    },
    {
      "cell_type": "markdown",
      "source": [
        "上のように，オペレーションクラスには，処理時間（pt），開始時刻（st），終了時刻（ct）の3つのフィールドが用意されている．処理時間は大域変数RPTで指定された範囲内の一様乱数で設定され，開始時刻と終了時刻はNoneで初期化されるようになっている．また，is_done()メソッドは，そのオペレーションが終了済みかどうかを判定するものである．\n",
        "\n",
        "このように，オペレーションクラスはできるだけ単純にとどめ，加工経路などの情報や，開始や終了の処理に対応するメソッドはジョブクラスの方に持たせてある．ジョブクラスには，下のように，初期化処理によって8つのフィールドが用意される．\n",
        "\n",
        "まず，jは，ジョブを区別するための連番であり，後述のモデルクラスをインスタンス化する際に到着順に振られるようになっている．modelは，そのモデルインスタンスを必要に応じて逆参照するためのものである．Kはそのジョブを構成するオペレーションの個数であり，上で述べた範囲内でランダムに設定されている．opsは，そのK個のオペレーションに対応する（オペレーションクラスの）インスタンスのリストであり，routeには，加工経路の情報が，後で定義するマシンクラスのインスタンスをランダムに並べたリストとして格納されている．\n",
        "\n",
        "next_kは，次に処理する（もしくは，処理中で未完了の）オペレーションのインデックスであり，その値は，先頭のオペレーションに対応する0に初期化されている．この値を利用して，next_op()とnext_mac()のメソッドがそれぞれ，次のオペレーションとそれを処理するマシンを取得している．また，is_done()メソッドは，このnext_kの値をKと比較することで，このジョブの終了判定を返す．\n",
        "\n",
        "to_dueは，到着時刻から納期までの時間であり，上述のルールに則ってランダムに設定されている．なお，その初期化処理で呼ばれているworkload()メソッドは，未完了のオペレーションの処理時間の総和を返す（ので，この時点では，オペレーションの処理時間の総和を返している）．\n",
        "\n",
        "atは到着時刻（初期化の時点ではNone）であり，arrive()メソッドが呼ばれた際に，その時点のシミュレーション時刻（後述のモデルクラスのclockフィールド）の値がセットされる．そうすると，due()メソッドで納期の値を取得できるようになる．なお，arrive()メソッドは，それに加えて，後述のマシンのreceive()メソッドを呼ぶとともに，（もしmodelインスタンスの初期化処理中でなければ）次のジョブの到着イベントをカレンダーに追加している．"
      ],
      "metadata": {
        "id": "rYOlgYjdwOCA"
      }
    },
    {
      "cell_type": "code",
      "source": [
        "class Job:\n",
        "    def __init__(self, j, model):\n",
        "        self.j = j  # job index\n",
        "        self.model = model  # pointer to model\n",
        "        self.K = random.randint(2, M)  # number of operations (2 <= K <= M)\n",
        "        self.ops = [Operation() for _ in range(self.K)]  # list of operations\n",
        "        self.route = [self.model.macs[m] for m in random.sample(range(M), self.K)]  # processing route (list of machines)\n",
        "        self.next_k = 0  # index of next operation (updated when completed)\n",
        "        self.to_due = self.work_remaining() + random.randint(*RIS)  # initial slack (time from arrival to due)\n",
        "        self.at = None  # arrival time (release date)\n",
        "\n",
        "    def next_op(self):  # next operation\n",
        "        return None if self.is_done() else self.ops[self.next_k]\n",
        "\n",
        "    def next_mac(self):  # next machine\n",
        "        return None if self.is_done() else self.route[self.next_k]\n",
        "\n",
        "    def workload(self):  # total remaining workload\n",
        "        return sum([op.pt for op in self.ops if not op.is_done()])\n",
        "\n",
        "    def is_done(self):  # are all operations done?\n",
        "        return False if self.next_k < self.K else True\n",
        "\n",
        "    def due(self):  # due date\n",
        "        return self.at +self.to_due\n",
        "\n",
        "    def arrive(self, init=False):  # arrive at shop floor\n",
        "        self.at = self.model.clock  # arrival time of job\n",
        "        self.next_mac().receive(self, init)  # received by next machine\n",
        "        if not init:  # except for model initialization\n",
        "            self.model.add_arrival()  # register next arrival event\n",
        "\n",
        "    def start(self):  # start next operation\n",
        "        self.next_op().st = self.model.clock  # starting time of current operation\n",
        "        self.model.add_completion(self)  # register its completion event\n",
        "\n",
        "    def complete(self):  # complete current (still next) operation\n",
        "        self.next_op().ct = self.model.clock  # completion time of current operation\n",
        "        self.next_mac().release()  # released by current machine\n",
        "        self.next_k += 1  # focus shifted to next operation\n",
        "        if not self.is_done():  # if next operation exists\n",
        "            self.next_mac().receive(self)  # received by next machine\n",
        "\n",
        "    def criterion(self):  # criterion for dispatching rule\n",
        "        if RULE == 'spt':\n",
        "            return self.next_op().pt\n",
        "        elif RULE == 'lpt':\n",
        "            return -self.next_op().pt\n",
        "        elif RULE == 'edd':\n",
        "            return self.due()\n",
        "        elif RULE == 'ms':\n",
        "            return self.due() -self.workload() -self.model.clock\n",
        "        elif RULE == 'mwkr':\n",
        "            return -self.workload()\n",
        "        elif RULE == 'lrm':\n",
        "            return self.next_op().pt -self.workload()\n",
        "        else:  # elif RULE == 'spt_tmkr':\n",
        "            return self.next_op().pt /self.workload()\n",
        "\n",
        "    def ct(self):  # completion time of job\n",
        "        return self.ops[-1].ct\n",
        "\n",
        "    def lateness(self):\n",
        "        return self.ct() -self.due()\n",
        "\n",
        "    def flow_time(self):\n",
        "        return self.ct() -self.at\n",
        "\n",
        "    def idle_time(self):\n",
        "        return self.flow_time() -sum([op.pt for op in self.ops])\n"
      ],
      "metadata": {
        "id": "Bz7AY9VLwOsW"
      },
      "execution_count": null,
      "outputs": []
    },
    {
      "cell_type": "markdown",
      "source": [
        "start()メソッドを呼ぶと，次のオペレーション（next_op()）が開始されるとともに，そのオペレーションの完了イベントがカレンダーに追加される．complete()メソッドは，処理中のオペレーション（next_op()）を完了させるものである．オペレーションを実行していたマシンのrelease()メソッドを呼ぶとともに，next_kの値をインクリメントさせ，もし後続のオペレーションがあれば，それを担当するマシンのreceive()メソッドを呼んでいることがわかる．\n",
        "\n",
        "criterion()メソッドは，到着順以外の規準で優先順位付けを行うディスパッチングルールのために，優先度を計算するものである．ct()は，ジョブの完了時刻を返し，lateness()，flow_time()，idle_time()は，事後評価の際などに，各ジョブの納期ずれ，滞留時間，アイドル時間をそれぞれ計算するために利用できる．"
      ],
      "metadata": {
        "id": "iwEUAaDyAPX5"
      }
    },
    {
      "cell_type": "markdown",
      "source": [
        "### マシン\n",
        "\n",
        "次にマシンのクラスを作成する．フィールドのｍは，マシンを区別するための連番であり，modelはジョブの場合と同じく，モデルインスタンスを必要に応じて逆参照するためのものである．bufferは，マシンの前の待ち行列であり，（オペレーションではなく）ジョブのリストになっている．また，Noneで初期化されているwipは，もし現在処理中のオペレーションがあれば，それに対応するジョブが格納される．"
      ],
      "metadata": {
        "id": "FjShfF2oU2nT"
      }
    },
    {
      "cell_type": "code",
      "source": [
        "class Machine:\n",
        "    def __init__(self, m, model):\n",
        "        self.m = m  # machine index\n",
        "        self.model = model  # pointer to model\n",
        "        self.buffer = []  # entrance buffer (list of operations)\n",
        "        self.wip = None  # operation currently under processing\n",
        "\n",
        "    def receive(self, job, init=False):  # receive a new job\n",
        "        self.buffer.append(job)  # put it in buffer\n",
        "        if not init:  # except for model initialization\n",
        "            self.dispatch()\n",
        "\n",
        "    def release(self):  # release wip from machine\n",
        "        self.wip = None\n",
        "        self.dispatch()\n",
        "\n",
        "    def dispatch(self):\n",
        "        if not self.wip and self.buffer:  # if machine is idle and buffer is not empty\n",
        "            self.wip = self.get_next()\n",
        "            self.wip.start()\n",
        "\n",
        "    def get_next(self):\n",
        "        if RULE == 'lifo':\n",
        "            return self.buffer.pop(-1)  # -1 is not necessary\n",
        "        elif not RULE == 'fifo':  # if fifo, no need to reorder\n",
        "            self.buffer.sort(key=lambda x: x.criterion())  # reorder buffer according to dispatching criterion\n",
        "        return self.buffer.pop(0)"
      ],
      "metadata": {
        "id": "V2KW6gLsAP2x"
      },
      "execution_count": null,
      "outputs": []
    },
    {
      "cell_type": "markdown",
      "source": [
        "rceive()とreliese()の2つのメソッドは上で出てきたものである．前者は指定されたジョブをbufferに追加したあと（もしmodelインスタンスの初期化処理中でなければ），後者はwipをNoneに戻したあと，それぞれdispatch()メソッドを呼んでいる．dispatch()メソッドは，（wipがNoneでbufferが空でなければ）bufferから次のジョブを取り出して，それをwipに格納している．そして，この次のジョブを取り出すメソッドがget_next()である．"
      ],
      "metadata": {
        "id": "UOSMvq2v9kj8"
      }
    },
    {
      "cell_type": "markdown",
      "source": [
        "### モデル\n",
        "\n",
        "最後に，上で作成した部品を組み合わせて，シミュレーションモデル本体のクラスを作成する．フィールドのclockはシミュレション時刻を表す変数，calendarはイベントカレンダー，macsはマシンのリスト，jobsはジョブのリスト，next_jは次に到着するジョブのインデックスである．初期化処理中に，IJ個のジョブを到着させたあと，各マシンのdispatch()メソッドを呼ぶとともに，次に到着するジョブの到着イベントをカレンダに追加している．\n",
        "\n",
        "add_arrival()はジョブの到着イベントを，add_completion()はオペレーションの完了イベントを，それぞれイベントカレンダーに追加するメソッドである．print_state()メソッドは，それが呼ばれた時点でのシミュレーション時刻とシステム状態を画面に打ち出す．"
      ],
      "metadata": {
        "id": "CY07FeiQWaQ2"
      }
    },
    {
      "cell_type": "code",
      "source": [
        "class Model:\n",
        "    def __init__(self):\n",
        "        self.clock = 0  # simulation time\n",
        "        self.calendar = Calendar()  # event calendar\n",
        "        self.macs = [Machine(m, self) for m in range(M)]  # list of machines\n",
        "        self.jobs = [Job(j, self) for j in range(J)]  # list of jobs\n",
        "        for job in self.jobs[:IJ]:  # load initial jobs\n",
        "            job.arrive(init=True)\n",
        "        for mac in self.macs:  # dispatch initial jobs\n",
        "            mac.dispatch()\n",
        "        self.next_j = IJ  # index of next job\n",
        "        self.add_arrival()  # register next arrival event\n",
        "\n",
        "    def add_arrival(self):  # create arrival event and added it to calendar\n",
        "        if self.next_j < J:  # only |J| jobs may arrive\n",
        "            interval = math.ceil(random.expovariate(LMD))  # time to next arrival\n",
        "            e = Event(self.clock +interval, 'arrival', self.jobs[self.next_j])\n",
        "            self.calendar.append(e)\n",
        "            self.next_j += 1\n",
        "\n",
        "    def add_completion(self, job):  # create completion event and added it to calendar\n",
        "        e = Event(self.clock +job.next_op().pt, 'completion', job)\n",
        "        self.calendar.append(e)\n",
        "\n",
        "    def print_state(self):\n",
        "        print('---------- time = {} ----------'.format(self.clock))\n",
        "        for mac in self.macs:\n",
        "            print('M{}:({})'.format(mac.m, mac.wip.j if mac.wip else '_'), end=' [')\n",
        "            for j, job in enumerate(mac.buffer):\n",
        "                print('{}'.format(job.j), end='')\n",
        "                if j < len(mac.buffer) -1:\n",
        "                    print(', ', end='')\n",
        "            print(']')\n",
        "\n",
        "    def run(self):\n",
        "        self.print_state()\n",
        "        while not self.calendar.is_empty():\n",
        "            e = self.calendar.trigger() # trigger next event\n",
        "            self.clock = e.time  # advance simulation time\n",
        "            if e.kind == 'arrival':  # in case of arrival event\n",
        "                e.job.arrive()\n",
        "            elif e.kind == 'completion':  # in case of completion event\n",
        "                e.job.complete()\n",
        "            else:  # if e.kind == 'end':\n",
        "                break\n",
        "            self.print_state()"
      ],
      "metadata": {
        "id": "8hY7UFDu9l_8"
      },
      "execution_count": null,
      "outputs": []
    },
    {
      "cell_type": "markdown",
      "source": [
        "最後のrun()がシミュレーションを実行するメソッドである．ここに，離散事象シミュレーションの流れが凝縮されている．イベントカレンダーが空でない限り回り続けるwhileループがあり，その中では，毎度，イベントカレンダーの先頭のイベントが取り出され，そのタイプに応じて，システム状態の変更を担う適切なメソッドが呼ばれる，という流れである．"
      ],
      "metadata": {
        "id": "ri95kYQ5AvwF"
      }
    },
    {
      "cell_type": "markdown",
      "source": [
        "## 実行\n",
        "\n",
        "作成したシミュレータを動かしてみよう．モデルをインスタンス化して，そのrun()メソッドを呼べばよい．\n",
        "\n",
        "randomモジュールで生成される疑似乱数を使用しているので，実行するたびに結果が異なることになるが，同じシード値を指定してrandom.seed()を呼んでおくと，同一の乱数系列を使用（して，同じ結果を再現）することができる．"
      ],
      "metadata": {
        "id": "0ELl188eZizr"
      }
    },
    {
      "cell_type": "code",
      "source": [
        "# random.seed(999)  # if seed is specified, the same random number series can be used\n",
        "\n",
        "# RULE = 'edd'  # you can specify another rule here, if necessary\n",
        "\n",
        "model = Model()\n",
        "model.run()\n",
        "\n",
        "# print('rule = ' +RULE)  # to make sure if simulation is run with intended rule"
      ],
      "metadata": {
        "id": "iKEBBJTYAwPA"
      },
      "execution_count": null,
      "outputs": []
    },
    {
      "cell_type": "markdown",
      "source": [
        "### 結果の描画例\n",
        "\n",
        "シミュレーション中に処理されたジョブ（に対応するJobインスタンス）が格納されたリストがmodel.jobsで参照できるので，例えば，下記のようにして，ジョブの属性（例えば，納期ずれならlateness()メソッドで取得できる）のヒストグラムを描くことができる．"
      ],
      "metadata": {
        "id": "ZsldlBajBZYu"
      }
    },
    {
      "cell_type": "code",
      "source": [
        "x = [job.lateness() for job in model.jobs]\n",
        "plt.hist(x, log=True)  # 'log=True' makes y axis expressed in log scale\n",
        "plt.show()"
      ],
      "metadata": {
        "id": "fVHsgDYqEN2Z"
      },
      "execution_count": null,
      "outputs": []
    }
  ]
}